{
 "cells": [
  {
   "cell_type": "markdown",
   "metadata": {},
   "source": [
    "# [DATA SCIENCE CHALLENGE SCL WEEK 1](#)\n",
    "## [Predict Cardano Price](https://github.com/jesussantana/Predict-Cardano-Price)  \n",
    "## Models\n",
    "*************\n",
    "[![forthebadge made-with-python](http://ForTheBadge.com/images/badges/made-with-python.svg)](https://www.python.org/)  \n",
    " \n",
    "[![Made withJupyter](https://img.shields.io/badge/Made%20with-Jupyter-orange?style=for-the-badge&logo=Jupyter)](https://jupyter.org/try)  \n",
    "\n",
    "[![Linkedin: Jesus Santana](https://img.shields.io/badge/-JesusSantana-blue?style=flat-square&logo=Linkedin&logoColor=white&link=https://www.linkedin.com/in/chus-santana/)](https://www.linkedin.com/in/chus-santana/)  \n",
    "[![GitHub JesusSantana](https://img.shields.io/github/followers/jesussantana?label=follow&style=social)](https://github.com/jesussantana) "
   ]
  },
  {
   "cell_type": "code",
   "execution_count": 1,
   "metadata": {},
   "outputs": [],
   "source": [
    "import matplotlib.pyplot as plt\n",
    "import pandas as pd\n",
    "import seaborn as sns\n",
    "import numpy as np\n",
    "# ^^^ pyforest auto-imports - don't write above this line\n",
    "# ==============================================================================\n",
    "# Auto Import Dependencies\n",
    "# ==============================================================================\n",
    "# pyforest imports dependencies according to use in the notebook\n",
    "# =============================================================================="
   ]
  },
  {
   "cell_type": "code",
   "execution_count": 2,
   "metadata": {},
   "outputs": [
    {
     "name": "stderr",
     "output_type": "stream",
     "text": [
      "2021-08-01 15:21:12.283350: W tensorflow/stream_executor/platform/default/dso_loader.cc:64] Could not load dynamic library 'libcudart.so.11.0'; dlerror: libcudart.so.11.0: cannot open shared object file: No such file or directory\n",
      "2021-08-01 15:21:12.283377: I tensorflow/stream_executor/cuda/cudart_stub.cc:29] Ignore above cudart dlerror if you do not have a GPU set up on your machine.\n"
     ]
    }
   ],
   "source": [
    "#!pip install mplfinance\n",
    "#import mplfinance as mpf\n",
    "import keras\n",
    "from tensorflow import keras as ks\n",
    "\n",
    "from keras.layers import TimeDistributed\n",
    "from keras.models import load_model\n",
    "\n",
    "from sklearn.preprocessing import MinMaxScaler, StandardScaler\n",
    "\n",
    "from keras.utils.np_utils import to_categorical\n",
    "from keras.models import Sequential\n",
    "from keras.layers import LSTM\n",
    "from keras.layers import Dense\n",
    "from keras.layers import TimeDistributed\n",
    "\n",
    "from keras.models import Sequential\n",
    "from keras.layers import Dense, Dropout\n",
    "\n",
    "from keras.callbacks import ModelCheckpoint\n",
    "\n",
    "from imblearn.over_sampling import SMOTE"
   ]
  },
  {
   "cell_type": "code",
   "execution_count": 3,
   "metadata": {},
   "outputs": [],
   "source": [
    "# Dependencies not Included in Auto Import*\n",
    "# ==============================================================================\n",
    "import time\n",
    "\n",
    "# Auto-training of classification and regression models\n",
    "# ==============================================================================\n",
    "from sklearn.preprocessing import MinMaxScaler\n",
    "from autosklearn.regression import AutoSklearnRegressor\n",
    "from autosklearn.metrics import mean_absolute_error as auto_mean_absolute_error\n",
    "\n",
    "# Pandas configuration\n",
    "# ==============================================================================\n",
    "pd.set_option('display.max_columns', None)\n",
    "\n",
    "# # Graphics\n",
    "# ==============================================================================\n",
    "import matplotlib.ticker as ticker\n",
    "from matplotlib import style\n",
    "import matplotlib.pyplot as plotter\n",
    "import plotly.express as px\n",
    "\n",
    "# Matplotlib configuration\n",
    "# ==============================================================================\n",
    "plt.rcParams['image.cmap'] = \"bwr\"\n",
    "#plt.rcParams['figure.dpi'] = \"100\"\n",
    "plt.rcParams['savefig.bbox'] = \"tight\"\n",
    "style.use('ggplot') or plt.style.use('ggplot')\n",
    "%matplotlib inline\n",
    "\n",
    "# Seaborn configuration\n",
    "# ==============================================================================\n",
    "sns.set_theme(style='darkgrid', palette='deep')\n",
    "dims = (20, 16)\n",
    "\n",
    "# Warnings configuration\n",
    "# ==============================================================================\n",
    "import warnings\n",
    "warnings.filterwarnings('ignore')\n",
    "\n",
    "# Folder configuration\n",
    "# ==============================================================================\n",
    "from os import path\n",
    "import sys\n",
    "new_path = '../scripts/'\n",
    "if new_path not in sys.path:\n",
    "    sys.path.append(new_path)\n",
    "path = \"../data/\""
   ]
  },
  {
   "cell_type": "markdown",
   "metadata": {},
   "source": [
    "# Explore Dataset\n",
    "**********"
   ]
  },
  {
   "cell_type": "code",
   "execution_count": 4,
   "metadata": {},
   "outputs": [],
   "source": [
    "df_train = pd.read_csv(path + 'raw/train.csv')"
   ]
  },
  {
   "cell_type": "code",
   "execution_count": 5,
   "metadata": {},
   "outputs": [],
   "source": [
    "df_test = pd.read_csv(path + 'raw/test_predictors.csv')"
   ]
  },
  {
   "cell_type": "code",
   "execution_count": 8,
   "metadata": {},
   "outputs": [
    {
     "data": {
      "text/html": [
       "<div>\n",
       "<style scoped>\n",
       "    .dataframe tbody tr th:only-of-type {\n",
       "        vertical-align: middle;\n",
       "    }\n",
       "\n",
       "    .dataframe tbody tr th {\n",
       "        vertical-align: top;\n",
       "    }\n",
       "\n",
       "    .dataframe thead th {\n",
       "        text-align: right;\n",
       "    }\n",
       "</style>\n",
       "<table border=\"1\" class=\"dataframe\">\n",
       "  <thead>\n",
       "    <tr style=\"text-align: right;\">\n",
       "      <th></th>\n",
       "      <th>Open_time</th>\n",
       "      <th>Open</th>\n",
       "      <th>High</th>\n",
       "      <th>Low</th>\n",
       "      <th>Close</th>\n",
       "      <th>Volume</th>\n",
       "      <th>QV</th>\n",
       "      <th>NOT</th>\n",
       "      <th>TBB</th>\n",
       "      <th>TBQ</th>\n",
       "      <th>Volatility</th>\n",
       "      <th>target</th>\n",
       "    </tr>\n",
       "  </thead>\n",
       "  <tbody>\n",
       "    <tr>\n",
       "      <th>0</th>\n",
       "      <td>2021-05-13 09:00:00</td>\n",
       "      <td>1.6625</td>\n",
       "      <td>1.6800</td>\n",
       "      <td>1.6623</td>\n",
       "      <td>1.6737</td>\n",
       "      <td>2878032.99</td>\n",
       "      <td>4.821304e+06</td>\n",
       "      <td>5125</td>\n",
       "      <td>1702161.28</td>\n",
       "      <td>2.851617e+06</td>\n",
       "      <td>0.673684</td>\n",
       "      <td>0</td>\n",
       "    </tr>\n",
       "    <tr>\n",
       "      <th>1</th>\n",
       "      <td>2021-05-13 09:05:00</td>\n",
       "      <td>1.6738</td>\n",
       "      <td>1.6790</td>\n",
       "      <td>1.6686</td>\n",
       "      <td>1.6733</td>\n",
       "      <td>2723854.15</td>\n",
       "      <td>4.558141e+06</td>\n",
       "      <td>4318</td>\n",
       "      <td>1516726.12</td>\n",
       "      <td>2.538139e+06</td>\n",
       "      <td>-0.029872</td>\n",
       "      <td>0</td>\n",
       "    </tr>\n",
       "    <tr>\n",
       "      <th>2</th>\n",
       "      <td>2021-05-13 09:10:00</td>\n",
       "      <td>1.6734</td>\n",
       "      <td>1.6749</td>\n",
       "      <td>1.6496</td>\n",
       "      <td>1.6514</td>\n",
       "      <td>3653708.06</td>\n",
       "      <td>6.075417e+06</td>\n",
       "      <td>5561</td>\n",
       "      <td>1625405.03</td>\n",
       "      <td>2.702822e+06</td>\n",
       "      <td>-1.314689</td>\n",
       "      <td>1</td>\n",
       "    </tr>\n",
       "    <tr>\n",
       "      <th>3</th>\n",
       "      <td>2021-05-13 09:15:00</td>\n",
       "      <td>1.6515</td>\n",
       "      <td>1.6708</td>\n",
       "      <td>1.6500</td>\n",
       "      <td>1.6693</td>\n",
       "      <td>3313388.75</td>\n",
       "      <td>5.505110e+06</td>\n",
       "      <td>5374</td>\n",
       "      <td>1797877.23</td>\n",
       "      <td>2.987432e+06</td>\n",
       "      <td>1.077808</td>\n",
       "      <td>0</td>\n",
       "    </tr>\n",
       "    <tr>\n",
       "      <th>4</th>\n",
       "      <td>2021-05-13 09:20:00</td>\n",
       "      <td>1.6690</td>\n",
       "      <td>1.6728</td>\n",
       "      <td>1.6587</td>\n",
       "      <td>1.6668</td>\n",
       "      <td>3478711.17</td>\n",
       "      <td>5.794350e+06</td>\n",
       "      <td>5799</td>\n",
       "      <td>1736515.81</td>\n",
       "      <td>2.892649e+06</td>\n",
       "      <td>-0.131815</td>\n",
       "      <td>0</td>\n",
       "    </tr>\n",
       "  </tbody>\n",
       "</table>\n",
       "</div>"
      ],
      "text/plain": [
       "             Open_time    Open    High     Low   Close      Volume  \\\n",
       "0  2021-05-13 09:00:00  1.6625  1.6800  1.6623  1.6737  2878032.99   \n",
       "1  2021-05-13 09:05:00  1.6738  1.6790  1.6686  1.6733  2723854.15   \n",
       "2  2021-05-13 09:10:00  1.6734  1.6749  1.6496  1.6514  3653708.06   \n",
       "3  2021-05-13 09:15:00  1.6515  1.6708  1.6500  1.6693  3313388.75   \n",
       "4  2021-05-13 09:20:00  1.6690  1.6728  1.6587  1.6668  3478711.17   \n",
       "\n",
       "             QV   NOT         TBB           TBQ  Volatility  target  \n",
       "0  4.821304e+06  5125  1702161.28  2.851617e+06    0.673684       0  \n",
       "1  4.558141e+06  4318  1516726.12  2.538139e+06   -0.029872       0  \n",
       "2  6.075417e+06  5561  1625405.03  2.702822e+06   -1.314689       1  \n",
       "3  5.505110e+06  5374  1797877.23  2.987432e+06    1.077808       0  \n",
       "4  5.794350e+06  5799  1736515.81  2.892649e+06   -0.131815       0  "
      ]
     },
     "execution_count": 8,
     "metadata": {},
     "output_type": "execute_result"
    }
   ],
   "source": [
    "df_train.head()"
   ]
  },
  {
   "cell_type": "code",
   "execution_count": 7,
   "metadata": {},
   "outputs": [
    {
     "name": "stdout",
     "output_type": "stream",
     "text": [
      "<class 'pandas.core.frame.DataFrame'>\n",
      "RangeIndex: 12701 entries, 0 to 12700\n",
      "Data columns (total 12 columns):\n",
      " #   Column      Non-Null Count  Dtype  \n",
      "---  ------      --------------  -----  \n",
      " 0   Open_time   12701 non-null  object \n",
      " 1   Open        12701 non-null  float64\n",
      " 2   High        12701 non-null  float64\n",
      " 3   Low         12701 non-null  float64\n",
      " 4   Close       12701 non-null  float64\n",
      " 5   Volume      12701 non-null  float64\n",
      " 6   QV          12701 non-null  float64\n",
      " 7   NOT         12701 non-null  int64  \n",
      " 8   TBB         12701 non-null  float64\n",
      " 9   TBQ         12701 non-null  float64\n",
      " 10  Volatility  12701 non-null  float64\n",
      " 11  target      12701 non-null  int64  \n",
      "dtypes: float64(9), int64(2), object(1)\n",
      "memory usage: 1.2+ MB\n"
     ]
    }
   ],
   "source": [
    "df_train.info()"
   ]
  },
  {
   "cell_type": "code",
   "execution_count": 9,
   "metadata": {},
   "outputs": [
    {
     "data": {
      "text/html": [
       "<div>\n",
       "<style scoped>\n",
       "    .dataframe tbody tr th:only-of-type {\n",
       "        vertical-align: middle;\n",
       "    }\n",
       "\n",
       "    .dataframe tbody tr th {\n",
       "        vertical-align: top;\n",
       "    }\n",
       "\n",
       "    .dataframe thead th {\n",
       "        text-align: right;\n",
       "    }\n",
       "</style>\n",
       "<table border=\"1\" class=\"dataframe\">\n",
       "  <thead>\n",
       "    <tr style=\"text-align: right;\">\n",
       "      <th></th>\n",
       "      <th>Open_time</th>\n",
       "      <th>Open</th>\n",
       "      <th>High</th>\n",
       "      <th>Low</th>\n",
       "      <th>Close</th>\n",
       "      <th>Volume</th>\n",
       "      <th>QV</th>\n",
       "      <th>NOT</th>\n",
       "      <th>TBB</th>\n",
       "      <th>TBQ</th>\n",
       "      <th>Volatility</th>\n",
       "    </tr>\n",
       "  </thead>\n",
       "  <tbody>\n",
       "    <tr>\n",
       "      <th>0</th>\n",
       "      <td>2021-06-26 11:25:00</td>\n",
       "      <td>1.2420</td>\n",
       "      <td>1.2439</td>\n",
       "      <td>1.2401</td>\n",
       "      <td>1.2423</td>\n",
       "      <td>762888.34</td>\n",
       "      <td>9.471762e+05</td>\n",
       "      <td>991</td>\n",
       "      <td>492672.20</td>\n",
       "      <td>6.116442e+05</td>\n",
       "      <td>0.024155</td>\n",
       "    </tr>\n",
       "    <tr>\n",
       "      <th>1</th>\n",
       "      <td>2021-06-26 11:30:00</td>\n",
       "      <td>1.2424</td>\n",
       "      <td>1.2461</td>\n",
       "      <td>1.2422</td>\n",
       "      <td>1.2449</td>\n",
       "      <td>768319.91</td>\n",
       "      <td>9.560712e+05</td>\n",
       "      <td>1025</td>\n",
       "      <td>355521.71</td>\n",
       "      <td>4.423621e+05</td>\n",
       "      <td>0.201223</td>\n",
       "    </tr>\n",
       "    <tr>\n",
       "      <th>2</th>\n",
       "      <td>2021-06-26 11:35:00</td>\n",
       "      <td>1.2449</td>\n",
       "      <td>1.2497</td>\n",
       "      <td>1.2440</td>\n",
       "      <td>1.2451</td>\n",
       "      <td>920008.82</td>\n",
       "      <td>1.147285e+06</td>\n",
       "      <td>1519</td>\n",
       "      <td>413771.18</td>\n",
       "      <td>5.159426e+05</td>\n",
       "      <td>0.016066</td>\n",
       "    </tr>\n",
       "    <tr>\n",
       "      <th>3</th>\n",
       "      <td>2021-06-26 11:40:00</td>\n",
       "      <td>1.2451</td>\n",
       "      <td>1.2520</td>\n",
       "      <td>1.2444</td>\n",
       "      <td>1.2477</td>\n",
       "      <td>3320275.56</td>\n",
       "      <td>4.146741e+06</td>\n",
       "      <td>3218</td>\n",
       "      <td>2066342.58</td>\n",
       "      <td>2.580730e+06</td>\n",
       "      <td>0.208819</td>\n",
       "    </tr>\n",
       "    <tr>\n",
       "      <th>4</th>\n",
       "      <td>2021-06-26 11:45:00</td>\n",
       "      <td>1.2476</td>\n",
       "      <td>1.2570</td>\n",
       "      <td>1.2442</td>\n",
       "      <td>1.2552</td>\n",
       "      <td>1347381.74</td>\n",
       "      <td>1.686204e+06</td>\n",
       "      <td>2446</td>\n",
       "      <td>715783.34</td>\n",
       "      <td>8.958810e+05</td>\n",
       "      <td>0.609170</td>\n",
       "    </tr>\n",
       "  </tbody>\n",
       "</table>\n",
       "</div>"
      ],
      "text/plain": [
       "             Open_time    Open    High     Low   Close      Volume  \\\n",
       "0  2021-06-26 11:25:00  1.2420  1.2439  1.2401  1.2423   762888.34   \n",
       "1  2021-06-26 11:30:00  1.2424  1.2461  1.2422  1.2449   768319.91   \n",
       "2  2021-06-26 11:35:00  1.2449  1.2497  1.2440  1.2451   920008.82   \n",
       "3  2021-06-26 11:40:00  1.2451  1.2520  1.2444  1.2477  3320275.56   \n",
       "4  2021-06-26 11:45:00  1.2476  1.2570  1.2442  1.2552  1347381.74   \n",
       "\n",
       "             QV   NOT         TBB           TBQ  Volatility  \n",
       "0  9.471762e+05   991   492672.20  6.116442e+05    0.024155  \n",
       "1  9.560712e+05  1025   355521.71  4.423621e+05    0.201223  \n",
       "2  1.147285e+06  1519   413771.18  5.159426e+05    0.016066  \n",
       "3  4.146741e+06  3218  2066342.58  2.580730e+06    0.208819  \n",
       "4  1.686204e+06  2446   715783.34  8.958810e+05    0.609170  "
      ]
     },
     "execution_count": 9,
     "metadata": {},
     "output_type": "execute_result"
    }
   ],
   "source": [
    "df_test.head()"
   ]
  },
  {
   "cell_type": "code",
   "execution_count": 10,
   "metadata": {},
   "outputs": [
    {
     "name": "stdout",
     "output_type": "stream",
     "text": [
      "<class 'pandas.core.frame.DataFrame'>\n",
      "RangeIndex: 5 entries, 0 to 4\n",
      "Data columns (total 11 columns):\n",
      " #   Column      Non-Null Count  Dtype  \n",
      "---  ------      --------------  -----  \n",
      " 0   Open_time   5 non-null      object \n",
      " 1   Open        5 non-null      float64\n",
      " 2   High        5 non-null      float64\n",
      " 3   Low         5 non-null      float64\n",
      " 4   Close       5 non-null      float64\n",
      " 5   Volume      5 non-null      float64\n",
      " 6   QV          5 non-null      float64\n",
      " 7   NOT         5 non-null      int64  \n",
      " 8   TBB         5 non-null      float64\n",
      " 9   TBQ         5 non-null      float64\n",
      " 10  Volatility  5 non-null      float64\n",
      "dtypes: float64(9), int64(1), object(1)\n",
      "memory usage: 568.0+ bytes\n"
     ]
    }
   ],
   "source": [
    "df_test.head().info()"
   ]
  },
  {
   "cell_type": "code",
   "execution_count": 11,
   "metadata": {},
   "outputs": [],
   "source": [
    "def convert_time(df):\n",
    "\n",
    "  df = df.sort_values('Open_time')\n",
    "\n",
    "  df['Year'] = [int(x[:4]) for x in df['Open_time'] ]\n",
    "  df['Month'] = [int(x[5:7]) for x in df['Open_time'] ]\n",
    "  df['Day'] = [int(x[8:11]) for x in df['Open_time'] ]\n",
    "\n",
    "  df['Hour'] = [int(x[11:13]) for x in df['Open_time'] ]\n",
    "  df['Minute'] = [int(x[14:16]) for x in df['Open_time'] ]\n",
    "\n",
    "  df['Open_time'] = [time.mktime(time.strptime(x, \"%Y-%m-%d %H:%M:%S\")) for x in df['Open_time'] ]\n",
    "\n",
    "  return df"
   ]
  },
  {
   "cell_type": "code",
   "execution_count": 12,
   "metadata": {},
   "outputs": [],
   "source": [
    "df_train = convert_time(df_train)\n",
    "df_test = convert_time(df_test)"
   ]
  },
  {
   "cell_type": "markdown",
   "metadata": {},
   "source": [
    "# Train test\n",
    "**********"
   ]
  },
  {
   "cell_type": "code",
   "execution_count": 13,
   "metadata": {},
   "outputs": [],
   "source": [
    "cols = df_train.columns\n",
    "cols = cols.drop(\"target\")\n",
    "\n",
    "X_train = df_train[cols]\n",
    "y_train = df_train[\"target\"]"
   ]
  },
  {
   "cell_type": "code",
   "execution_count": 14,
   "metadata": {},
   "outputs": [],
   "source": [
    "# Transform the dataset\n",
    "# ==============================================================================\n",
    "# strategy = {0:15000, 1:10000, 2:10000}\n",
    "strategy = {0:20000, 1:5000, 2:5000}\n",
    "oversample = SMOTE(sampling_strategy=strategy)\n",
    "\n",
    "# X_train_over, y_train_over = X_train, y_train\n",
    "# ==============================================================================\n",
    "X_train_over, y_train_over = oversample.fit_resample(X_train, y_train)\n",
    "\n",
    "y_train_over = to_categorical(y_train_over, num_classes=3)"
   ]
  },
  {
   "cell_type": "code",
   "execution_count": 15,
   "metadata": {},
   "outputs": [],
   "source": [
    "scaler = MinMaxScaler(feature_range=(0, 1))\n",
    "# scaler = StandardScaler()\n",
    "\n",
    "X_train_over = scaler.fit_transform(X_train_over)\n",
    "#X_train_over = X_train_over.copy()\n",
    "\n",
    "X_test = scaler.fit_transform(df_test)"
   ]
  },
  {
   "cell_type": "code",
   "execution_count": 16,
   "metadata": {},
   "outputs": [
    {
     "data": {
      "text/plain": [
       "0    1    2  \n",
       "1.0  0.0  0.0    20000\n",
       "0.0  0.0  1.0     5000\n",
       "     1.0  0.0     5000\n",
       "dtype: int64"
      ]
     },
     "execution_count": 16,
     "metadata": {},
     "output_type": "execute_result"
    }
   ],
   "source": [
    "pd.DataFrame(y_train_over).value_counts()"
   ]
  },
  {
   "cell_type": "code",
   "execution_count": 17,
   "metadata": {},
   "outputs": [
    {
     "data": {
      "text/plain": [
       "(1500, 20, 16)"
      ]
     },
     "execution_count": 17,
     "metadata": {},
     "output_type": "execute_result"
    }
   ],
   "source": [
    "# [samples, timesteps, features]\n",
    "# ==============================================================================\n",
    "timesteps = 20\n",
    "samples = int(X_train_over.shape[0]/timesteps)\n",
    "features = len(cols)\n",
    "\n",
    "X_train_reshape = np.array(X_train_over).reshape(samples, timesteps, features)\n",
    "y_train_reshape = np.array(y_train_over).reshape(samples, timesteps, 3)\n",
    "X_train_reshape.shape"
   ]
  },
  {
   "cell_type": "code",
   "execution_count": 18,
   "metadata": {},
   "outputs": [
    {
     "data": {
      "text/plain": [
       "array([[[1., 0., 0.],\n",
       "        [1., 0., 0.],\n",
       "        [0., 1., 0.],\n",
       "        ...,\n",
       "        [1., 0., 0.],\n",
       "        [1., 0., 0.],\n",
       "        [1., 0., 0.]],\n",
       "\n",
       "       [[1., 0., 0.],\n",
       "        [1., 0., 0.],\n",
       "        [1., 0., 0.],\n",
       "        ...,\n",
       "        [0., 0., 1.],\n",
       "        [1., 0., 0.],\n",
       "        [1., 0., 0.]],\n",
       "\n",
       "       [[1., 0., 0.],\n",
       "        [1., 0., 0.],\n",
       "        [1., 0., 0.],\n",
       "        ...,\n",
       "        [1., 0., 0.],\n",
       "        [1., 0., 0.],\n",
       "        [0., 1., 0.]],\n",
       "\n",
       "       ...,\n",
       "\n",
       "       [[0., 0., 1.],\n",
       "        [0., 0., 1.],\n",
       "        [0., 0., 1.],\n",
       "        ...,\n",
       "        [0., 0., 1.],\n",
       "        [0., 0., 1.],\n",
       "        [0., 0., 1.]],\n",
       "\n",
       "       [[0., 0., 1.],\n",
       "        [0., 0., 1.],\n",
       "        [0., 0., 1.],\n",
       "        ...,\n",
       "        [0., 0., 1.],\n",
       "        [0., 0., 1.],\n",
       "        [0., 0., 1.]],\n",
       "\n",
       "       [[0., 0., 1.],\n",
       "        [0., 0., 1.],\n",
       "        [0., 0., 1.],\n",
       "        ...,\n",
       "        [0., 0., 1.],\n",
       "        [0., 0., 1.],\n",
       "        [0., 0., 1.]]], dtype=float32)"
      ]
     },
     "execution_count": 18,
     "metadata": {},
     "output_type": "execute_result"
    }
   ],
   "source": [
    "y_train_reshape"
   ]
  },
  {
   "cell_type": "markdown",
   "metadata": {},
   "source": [
    "# Model\n",
    "************"
   ]
  },
  {
   "cell_type": "code",
   "execution_count": 19,
   "metadata": {},
   "outputs": [
    {
     "name": "stderr",
     "output_type": "stream",
     "text": [
      "2021-08-01 15:23:16.025099: W tensorflow/stream_executor/platform/default/dso_loader.cc:64] Could not load dynamic library 'libcuda.so.1'; dlerror: libcuda.so.1: cannot open shared object file: No such file or directory\n",
      "2021-08-01 15:23:16.025127: W tensorflow/stream_executor/cuda/cuda_driver.cc:326] failed call to cuInit: UNKNOWN ERROR (303)\n",
      "2021-08-01 15:23:16.025147: I tensorflow/stream_executor/cuda/cuda_diagnostics.cc:156] kernel driver does not appear to be running on this host (tuf-ml-station-fx505dy): /proc/driver/nvidia/version does not exist\n",
      "2021-08-01 15:23:16.025435: I tensorflow/core/platform/cpu_feature_guard.cc:142] This TensorFlow binary is optimized with oneAPI Deep Neural Network Library (oneDNN) to use the following CPU instructions in performance-critical operations:  AVX2 FMA\n",
      "To enable them in other operations, rebuild TensorFlow with the appropriate compiler flags.\n"
     ]
    },
    {
     "name": "stdout",
     "output_type": "stream",
     "text": [
      "Model: \"sequential\"\n",
      "_________________________________________________________________\n",
      "Layer (type)                 Output Shape              Param #   \n",
      "=================================================================\n",
      "lstm (LSTM)                  (None, 20, 500)           1034000   \n",
      "_________________________________________________________________\n",
      "dense (Dense)                (None, 20, 3)             1503      \n",
      "=================================================================\n",
      "Total params: 1,035,503\n",
      "Trainable params: 1,035,503\n",
      "Non-trainable params: 0\n",
      "_________________________________________________________________\n"
     ]
    }
   ],
   "source": [
    "model = Sequential()\n",
    "model.add(LSTM(500, dropout=0.25, input_shape=( timesteps, features ),return_sequences=True))\n",
    "\n",
    "model.add(Dense(3,activation='softmax'))\n",
    "\n",
    "model.compile(loss='categorical_crossentropy',\n",
    "              optimizer='adam', metrics=['accuracy'])\n",
    "\n",
    "model.summary()"
   ]
  },
  {
   "cell_type": "code",
   "execution_count": 20,
   "metadata": {},
   "outputs": [],
   "source": [
    "checkpoint_filepath = 'model.h5'\n",
    "\n",
    "model_checkpoint_callback = keras.callbacks.ModelCheckpoint(\n",
    "    filepath=checkpoint_filepath,\n",
    "    monitor='val_accuracy',\n",
    "    mode='max',\n",
    "    save_best_only=True)"
   ]
  },
  {
   "cell_type": "code",
   "execution_count": 21,
   "metadata": {},
   "outputs": [],
   "source": [
    "X_train_orig = scaler.fit_transform(X_train[:-1])\n",
    "y_train_orig = to_categorical(y_train[:-1], num_classes=3)"
   ]
  },
  {
   "cell_type": "code",
   "execution_count": 22,
   "metadata": {},
   "outputs": [
    {
     "data": {
      "text/plain": [
       "(635, 20, 16)"
      ]
     },
     "execution_count": 22,
     "metadata": {},
     "output_type": "execute_result"
    }
   ],
   "source": [
    "timesteps = 20\n",
    "samples = int(X_train_orig.shape[0]/timesteps)\n",
    "features = len(cols)\n",
    "\n",
    "X_train_orig_reshape = np.array(X_train_orig).reshape(samples, timesteps, features)\n",
    "y_train_orig_reshape = np.array(y_train_orig).reshape(samples, timesteps, 3)\n",
    "X_train_orig_reshape.shape"
   ]
  },
  {
   "cell_type": "code",
   "execution_count": 23,
   "metadata": {},
   "outputs": [
    {
     "name": "stdout",
     "output_type": "stream",
     "text": [
      "WARNING:tensorflow:AutoGraph could not transform <function TensorLikeDataAdapter.__init__.<locals>.permutation at 0x7f474ee35b80> and will run it as-is.\n",
      "Please report this to the TensorFlow team. When filing the bug, set the verbosity to 10 (on Linux, `export AUTOGRAPH_VERBOSITY=10`) and attach the full output.\n",
      "Cause: smac attempted to use a functionality that requires module emcee, but it couldn't be loaded. Please install emcee and retry.\n",
      "To silence this warning, decorate the function with @tf.autograph.experimental.do_not_convert\n"
     ]
    },
    {
     "name": "stderr",
     "output_type": "stream",
     "text": [
      "WARNING:tensorflow:AutoGraph could not transform <function TensorLikeDataAdapter.__init__.<locals>.permutation at 0x7f474ee35b80> and will run it as-is.\n",
      "Please report this to the TensorFlow team. When filing the bug, set the verbosity to 10 (on Linux, `export AUTOGRAPH_VERBOSITY=10`) and attach the full output.\n",
      "Cause: smac attempted to use a functionality that requires module emcee, but it couldn't be loaded. Please install emcee and retry.\n",
      "To silence this warning, decorate the function with @tf.autograph.experimental.do_not_convert\n"
     ]
    },
    {
     "name": "stdout",
     "output_type": "stream",
     "text": [
      "WARNING: AutoGraph could not transform <function TensorLikeDataAdapter.__init__.<locals>.permutation at 0x7f474ee35b80> and will run it as-is.\n",
      "Please report this to the TensorFlow team. When filing the bug, set the verbosity to 10 (on Linux, `export AUTOGRAPH_VERBOSITY=10`) and attach the full output.\n",
      "Cause: smac attempted to use a functionality that requires module emcee, but it couldn't be loaded. Please install emcee and retry.\n",
      "To silence this warning, decorate the function with @tf.autograph.experimental.do_not_convert\n",
      "WARNING:tensorflow:AutoGraph could not transform <function TensorLikeDataAdapter.__init__.<locals>.slice_batch_indices at 0x7f474ec7e3a0> and will run it as-is.\n",
      "Please report this to the TensorFlow team. When filing the bug, set the verbosity to 10 (on Linux, `export AUTOGRAPH_VERBOSITY=10`) and attach the full output.\n",
      "Cause: smac attempted to use a functionality that requires module emcee, but it couldn't be loaded. Please install emcee and retry.\n",
      "To silence this warning, decorate the function with @tf.autograph.experimental.do_not_convert\n"
     ]
    },
    {
     "name": "stderr",
     "output_type": "stream",
     "text": [
      "WARNING:tensorflow:AutoGraph could not transform <function TensorLikeDataAdapter.__init__.<locals>.slice_batch_indices at 0x7f474ec7e3a0> and will run it as-is.\n",
      "Please report this to the TensorFlow team. When filing the bug, set the verbosity to 10 (on Linux, `export AUTOGRAPH_VERBOSITY=10`) and attach the full output.\n",
      "Cause: smac attempted to use a functionality that requires module emcee, but it couldn't be loaded. Please install emcee and retry.\n",
      "To silence this warning, decorate the function with @tf.autograph.experimental.do_not_convert\n"
     ]
    },
    {
     "name": "stdout",
     "output_type": "stream",
     "text": [
      "WARNING: AutoGraph could not transform <function TensorLikeDataAdapter.__init__.<locals>.slice_batch_indices at 0x7f474ec7e3a0> and will run it as-is.\n",
      "Please report this to the TensorFlow team. When filing the bug, set the verbosity to 10 (on Linux, `export AUTOGRAPH_VERBOSITY=10`) and attach the full output.\n",
      "Cause: smac attempted to use a functionality that requires module emcee, but it couldn't be loaded. Please install emcee and retry.\n",
      "To silence this warning, decorate the function with @tf.autograph.experimental.do_not_convert\n",
      "WARNING:tensorflow:AutoGraph could not transform <function TensorLikeDataAdapter.slice_inputs.<locals>.grab_batch at 0x7f474ee9e8b0> and will run it as-is.\n",
      "Please report this to the TensorFlow team. When filing the bug, set the verbosity to 10 (on Linux, `export AUTOGRAPH_VERBOSITY=10`) and attach the full output.\n",
      "Cause: smac attempted to use a functionality that requires module emcee, but it couldn't be loaded. Please install emcee and retry.\n",
      "To silence this warning, decorate the function with @tf.autograph.experimental.do_not_convert\n"
     ]
    },
    {
     "name": "stderr",
     "output_type": "stream",
     "text": [
      "WARNING:tensorflow:AutoGraph could not transform <function TensorLikeDataAdapter.slice_inputs.<locals>.grab_batch at 0x7f474ee9e8b0> and will run it as-is.\n",
      "Please report this to the TensorFlow team. When filing the bug, set the verbosity to 10 (on Linux, `export AUTOGRAPH_VERBOSITY=10`) and attach the full output.\n",
      "Cause: smac attempted to use a functionality that requires module emcee, but it couldn't be loaded. Please install emcee and retry.\n",
      "To silence this warning, decorate the function with @tf.autograph.experimental.do_not_convert\n"
     ]
    },
    {
     "name": "stdout",
     "output_type": "stream",
     "text": [
      "WARNING: AutoGraph could not transform <function TensorLikeDataAdapter.slice_inputs.<locals>.grab_batch at 0x7f474ee9e8b0> and will run it as-is.\n",
      "Please report this to the TensorFlow team. When filing the bug, set the verbosity to 10 (on Linux, `export AUTOGRAPH_VERBOSITY=10`) and attach the full output.\n",
      "Cause: smac attempted to use a functionality that requires module emcee, but it couldn't be loaded. Please install emcee and retry.\n",
      "To silence this warning, decorate the function with @tf.autograph.experimental.do_not_convert\n"
     ]
    },
    {
     "name": "stderr",
     "output_type": "stream",
     "text": [
      "2021-08-01 15:24:02.912887: I tensorflow/compiler/mlir/mlir_graph_optimization_pass.cc:176] None of the MLIR Optimization Passes are enabled (registered 2)\n",
      "2021-08-01 15:24:02.934865: I tensorflow/core/platform/profile_utils/cpu_utils.cc:114] CPU Frequency: 2096005000 Hz\n"
     ]
    },
    {
     "name": "stdout",
     "output_type": "stream",
     "text": [
      "WARNING:tensorflow:AutoGraph could not transform <function Model.make_train_function.<locals>.train_function at 0x7f474ee9ed30> and will run it as-is.\n",
      "Please report this to the TensorFlow team. When filing the bug, set the verbosity to 10 (on Linux, `export AUTOGRAPH_VERBOSITY=10`) and attach the full output.\n",
      "Cause: smac attempted to use a functionality that requires module emcee, but it couldn't be loaded. Please install emcee and retry.\n",
      "To silence this warning, decorate the function with @tf.autograph.experimental.do_not_convert\n"
     ]
    },
    {
     "name": "stderr",
     "output_type": "stream",
     "text": [
      "WARNING:tensorflow:AutoGraph could not transform <function Model.make_train_function.<locals>.train_function at 0x7f474ee9ed30> and will run it as-is.\n",
      "Please report this to the TensorFlow team. When filing the bug, set the verbosity to 10 (on Linux, `export AUTOGRAPH_VERBOSITY=10`) and attach the full output.\n",
      "Cause: smac attempted to use a functionality that requires module emcee, but it couldn't be loaded. Please install emcee and retry.\n",
      "To silence this warning, decorate the function with @tf.autograph.experimental.do_not_convert\n"
     ]
    },
    {
     "name": "stdout",
     "output_type": "stream",
     "text": [
      "WARNING: AutoGraph could not transform <function Model.make_train_function.<locals>.train_function at 0x7f474ee9ed30> and will run it as-is.\n",
      "Please report this to the TensorFlow team. When filing the bug, set the verbosity to 10 (on Linux, `export AUTOGRAPH_VERBOSITY=10`) and attach the full output.\n",
      "Cause: smac attempted to use a functionality that requires module emcee, but it couldn't be loaded. Please install emcee and retry.\n",
      "To silence this warning, decorate the function with @tf.autograph.experimental.do_not_convert\n",
      "WARNING:tensorflow:AutoGraph could not transform <function Model.make_train_function.<locals>.step_function.<locals>.run_step at 0x7f474ee351f0> and will run it as-is.\n",
      "Please report this to the TensorFlow team. When filing the bug, set the verbosity to 10 (on Linux, `export AUTOGRAPH_VERBOSITY=10`) and attach the full output.\n",
      "Cause: smac attempted to use a functionality that requires module emcee, but it couldn't be loaded. Please install emcee and retry.\n",
      "To silence this warning, decorate the function with @tf.autograph.experimental.do_not_convert\n"
     ]
    },
    {
     "name": "stderr",
     "output_type": "stream",
     "text": [
      "WARNING:tensorflow:AutoGraph could not transform <function Model.make_train_function.<locals>.step_function.<locals>.run_step at 0x7f474ee351f0> and will run it as-is.\n",
      "Please report this to the TensorFlow team. When filing the bug, set the verbosity to 10 (on Linux, `export AUTOGRAPH_VERBOSITY=10`) and attach the full output.\n",
      "Cause: smac attempted to use a functionality that requires module emcee, but it couldn't be loaded. Please install emcee and retry.\n",
      "To silence this warning, decorate the function with @tf.autograph.experimental.do_not_convert\n"
     ]
    },
    {
     "name": "stdout",
     "output_type": "stream",
     "text": [
      "WARNING: AutoGraph could not transform <function Model.make_train_function.<locals>.step_function.<locals>.run_step at 0x7f474ee351f0> and will run it as-is.\n",
      "Please report this to the TensorFlow team. When filing the bug, set the verbosity to 10 (on Linux, `export AUTOGRAPH_VERBOSITY=10`) and attach the full output.\n",
      "Cause: smac attempted to use a functionality that requires module emcee, but it couldn't be loaded. Please install emcee and retry.\n",
      "To silence this warning, decorate the function with @tf.autograph.experimental.do_not_convert\n",
      "WARNING:tensorflow:AutoGraph could not transform <bound method LossFunctionWrapper.call of <keras.losses.LossFunctionWrapper object at 0x7f474ead1d60>> and will run it as-is.\n",
      "Please report this to the TensorFlow team. When filing the bug, set the verbosity to 10 (on Linux, `export AUTOGRAPH_VERBOSITY=10`) and attach the full output.\n",
      "Cause: smac attempted to use a functionality that requires module emcee, but it couldn't be loaded. Please install emcee and retry.\n",
      "To silence this warning, decorate the function with @tf.autograph.experimental.do_not_convert\n"
     ]
    },
    {
     "name": "stderr",
     "output_type": "stream",
     "text": [
      "WARNING:tensorflow:AutoGraph could not transform <bound method LossFunctionWrapper.call of <keras.losses.LossFunctionWrapper object at 0x7f474ead1d60>> and will run it as-is.\n",
      "Please report this to the TensorFlow team. When filing the bug, set the verbosity to 10 (on Linux, `export AUTOGRAPH_VERBOSITY=10`) and attach the full output.\n",
      "Cause: smac attempted to use a functionality that requires module emcee, but it couldn't be loaded. Please install emcee and retry.\n",
      "To silence this warning, decorate the function with @tf.autograph.experimental.do_not_convert\n"
     ]
    },
    {
     "name": "stdout",
     "output_type": "stream",
     "text": [
      "WARNING: AutoGraph could not transform <bound method LossFunctionWrapper.call of <keras.losses.LossFunctionWrapper object at 0x7f474ead1d60>> and will run it as-is.\n",
      "Please report this to the TensorFlow team. When filing the bug, set the verbosity to 10 (on Linux, `export AUTOGRAPH_VERBOSITY=10`) and attach the full output.\n",
      "Cause: smac attempted to use a functionality that requires module emcee, but it couldn't be loaded. Please install emcee and retry.\n",
      "To silence this warning, decorate the function with @tf.autograph.experimental.do_not_convert\n",
      "WARNING:tensorflow:AutoGraph could not transform <bound method Reduce.update_state of <keras.metrics.Mean object at 0x7f474ecbf160>> and will run it as-is.\n",
      "Please report this to the TensorFlow team. When filing the bug, set the verbosity to 10 (on Linux, `export AUTOGRAPH_VERBOSITY=10`) and attach the full output.\n",
      "Cause: smac attempted to use a functionality that requires module emcee, but it couldn't be loaded. Please install emcee and retry.\n",
      "To silence this warning, decorate the function with @tf.autograph.experimental.do_not_convert\n"
     ]
    },
    {
     "name": "stderr",
     "output_type": "stream",
     "text": [
      "WARNING:tensorflow:AutoGraph could not transform <bound method Reduce.update_state of <keras.metrics.Mean object at 0x7f474ecbf160>> and will run it as-is.\n",
      "Please report this to the TensorFlow team. When filing the bug, set the verbosity to 10 (on Linux, `export AUTOGRAPH_VERBOSITY=10`) and attach the full output.\n",
      "Cause: smac attempted to use a functionality that requires module emcee, but it couldn't be loaded. Please install emcee and retry.\n",
      "To silence this warning, decorate the function with @tf.autograph.experimental.do_not_convert\n"
     ]
    },
    {
     "name": "stdout",
     "output_type": "stream",
     "text": [
      "WARNING: AutoGraph could not transform <bound method Reduce.update_state of <keras.metrics.Mean object at 0x7f474ecbf160>> and will run it as-is.\n",
      "Please report this to the TensorFlow team. When filing the bug, set the verbosity to 10 (on Linux, `export AUTOGRAPH_VERBOSITY=10`) and attach the full output.\n",
      "Cause: smac attempted to use a functionality that requires module emcee, but it couldn't be loaded. Please install emcee and retry.\n",
      "To silence this warning, decorate the function with @tf.autograph.experimental.do_not_convert\n",
      "WARNING:tensorflow:AutoGraph could not transform <bound method MeanMetricWrapper.update_state of <keras.metrics.MeanMetricWrapper object at 0x7f474e93a190>> and will run it as-is.\n",
      "Please report this to the TensorFlow team. When filing the bug, set the verbosity to 10 (on Linux, `export AUTOGRAPH_VERBOSITY=10`) and attach the full output.\n",
      "Cause: smac attempted to use a functionality that requires module emcee, but it couldn't be loaded. Please install emcee and retry.\n",
      "To silence this warning, decorate the function with @tf.autograph.experimental.do_not_convert\n"
     ]
    },
    {
     "name": "stderr",
     "output_type": "stream",
     "text": [
      "WARNING:tensorflow:AutoGraph could not transform <bound method MeanMetricWrapper.update_state of <keras.metrics.MeanMetricWrapper object at 0x7f474e93a190>> and will run it as-is.\n",
      "Please report this to the TensorFlow team. When filing the bug, set the verbosity to 10 (on Linux, `export AUTOGRAPH_VERBOSITY=10`) and attach the full output.\n",
      "Cause: smac attempted to use a functionality that requires module emcee, but it couldn't be loaded. Please install emcee and retry.\n",
      "To silence this warning, decorate the function with @tf.autograph.experimental.do_not_convert\n"
     ]
    },
    {
     "name": "stdout",
     "output_type": "stream",
     "text": [
      "WARNING: AutoGraph could not transform <bound method MeanMetricWrapper.update_state of <keras.metrics.MeanMetricWrapper object at 0x7f474e93a190>> and will run it as-is.\n",
      "Please report this to the TensorFlow team. When filing the bug, set the verbosity to 10 (on Linux, `export AUTOGRAPH_VERBOSITY=10`) and attach the full output.\n",
      "Cause: smac attempted to use a functionality that requires module emcee, but it couldn't be loaded. Please install emcee and retry.\n",
      "To silence this warning, decorate the function with @tf.autograph.experimental.do_not_convert\n",
      "WARNING:tensorflow:AutoGraph could not transform <bound method Reduce.result of <keras.metrics.Mean object at 0x7f474ecbf160>> and will run it as-is.\n",
      "Please report this to the TensorFlow team. When filing the bug, set the verbosity to 10 (on Linux, `export AUTOGRAPH_VERBOSITY=10`) and attach the full output.\n",
      "Cause: smac attempted to use a functionality that requires module emcee, but it couldn't be loaded. Please install emcee and retry.\n",
      "To silence this warning, decorate the function with @tf.autograph.experimental.do_not_convert\n"
     ]
    },
    {
     "name": "stderr",
     "output_type": "stream",
     "text": [
      "WARNING:tensorflow:AutoGraph could not transform <bound method Reduce.result of <keras.metrics.Mean object at 0x7f474ecbf160>> and will run it as-is.\n",
      "Please report this to the TensorFlow team. When filing the bug, set the verbosity to 10 (on Linux, `export AUTOGRAPH_VERBOSITY=10`) and attach the full output.\n",
      "Cause: smac attempted to use a functionality that requires module emcee, but it couldn't be loaded. Please install emcee and retry.\n",
      "To silence this warning, decorate the function with @tf.autograph.experimental.do_not_convert\n"
     ]
    },
    {
     "name": "stdout",
     "output_type": "stream",
     "text": [
      "WARNING: AutoGraph could not transform <bound method Reduce.result of <keras.metrics.Mean object at 0x7f474ecbf160>> and will run it as-is.\n",
      "Please report this to the TensorFlow team. When filing the bug, set the verbosity to 10 (on Linux, `export AUTOGRAPH_VERBOSITY=10`) and attach the full output.\n",
      "Cause: smac attempted to use a functionality that requires module emcee, but it couldn't be loaded. Please install emcee and retry.\n",
      "To silence this warning, decorate the function with @tf.autograph.experimental.do_not_convert\n",
      "WARNING:tensorflow:AutoGraph could not transform <function Model.make_train_function.<locals>.step_function.<locals>.run_step at 0x7f474eb59940> and will run it as-is.\n",
      "Please report this to the TensorFlow team. When filing the bug, set the verbosity to 10 (on Linux, `export AUTOGRAPH_VERBOSITY=10`) and attach the full output.\n",
      "Cause: smac attempted to use a functionality that requires module emcee, but it couldn't be loaded. Please install emcee and retry.\n",
      "To silence this warning, decorate the function with @tf.autograph.experimental.do_not_convert\n"
     ]
    },
    {
     "name": "stderr",
     "output_type": "stream",
     "text": [
      "WARNING:tensorflow:AutoGraph could not transform <function Model.make_train_function.<locals>.step_function.<locals>.run_step at 0x7f474eb59940> and will run it as-is.\n",
      "Please report this to the TensorFlow team. When filing the bug, set the verbosity to 10 (on Linux, `export AUTOGRAPH_VERBOSITY=10`) and attach the full output.\n",
      "Cause: smac attempted to use a functionality that requires module emcee, but it couldn't be loaded. Please install emcee and retry.\n",
      "To silence this warning, decorate the function with @tf.autograph.experimental.do_not_convert\n"
     ]
    },
    {
     "name": "stdout",
     "output_type": "stream",
     "text": [
      "WARNING: AutoGraph could not transform <function Model.make_train_function.<locals>.step_function.<locals>.run_step at 0x7f474eb59940> and will run it as-is.\n",
      "Please report this to the TensorFlow team. When filing the bug, set the verbosity to 10 (on Linux, `export AUTOGRAPH_VERBOSITY=10`) and attach the full output.\n",
      "Cause: smac attempted to use a functionality that requires module emcee, but it couldn't be loaded. Please install emcee and retry.\n",
      "To silence this warning, decorate the function with @tf.autograph.experimental.do_not_convert\n",
      "WARNING:tensorflow:AutoGraph could not transform <function TensorLikeDataAdapter.__init__.<locals>.permutation at 0x7f474eb59940> and will run it as-is.\n",
      "Please report this to the TensorFlow team. When filing the bug, set the verbosity to 10 (on Linux, `export AUTOGRAPH_VERBOSITY=10`) and attach the full output.\n",
      "Cause: smac attempted to use a functionality that requires module emcee, but it couldn't be loaded. Please install emcee and retry.\n",
      "To silence this warning, decorate the function with @tf.autograph.experimental.do_not_convert\n"
     ]
    },
    {
     "name": "stderr",
     "output_type": "stream",
     "text": [
      "WARNING:tensorflow:AutoGraph could not transform <function TensorLikeDataAdapter.__init__.<locals>.permutation at 0x7f474eb59940> and will run it as-is.\n",
      "Please report this to the TensorFlow team. When filing the bug, set the verbosity to 10 (on Linux, `export AUTOGRAPH_VERBOSITY=10`) and attach the full output.\n",
      "Cause: smac attempted to use a functionality that requires module emcee, but it couldn't be loaded. Please install emcee and retry.\n",
      "To silence this warning, decorate the function with @tf.autograph.experimental.do_not_convert\n"
     ]
    },
    {
     "name": "stdout",
     "output_type": "stream",
     "text": [
      "WARNING: AutoGraph could not transform <function TensorLikeDataAdapter.__init__.<locals>.permutation at 0x7f474eb59940> and will run it as-is.\n",
      "Please report this to the TensorFlow team. When filing the bug, set the verbosity to 10 (on Linux, `export AUTOGRAPH_VERBOSITY=10`) and attach the full output.\n",
      "Cause: smac attempted to use a functionality that requires module emcee, but it couldn't be loaded. Please install emcee and retry.\n",
      "To silence this warning, decorate the function with @tf.autograph.experimental.do_not_convert\n",
      "WARNING:tensorflow:AutoGraph could not transform <function TensorLikeDataAdapter.__init__.<locals>.slice_batch_indices at 0x7f474ea895e0> and will run it as-is.\n",
      "Please report this to the TensorFlow team. When filing the bug, set the verbosity to 10 (on Linux, `export AUTOGRAPH_VERBOSITY=10`) and attach the full output.\n",
      "Cause: smac attempted to use a functionality that requires module emcee, but it couldn't be loaded. Please install emcee and retry.\n",
      "To silence this warning, decorate the function with @tf.autograph.experimental.do_not_convert\n"
     ]
    },
    {
     "name": "stderr",
     "output_type": "stream",
     "text": [
      "WARNING:tensorflow:AutoGraph could not transform <function TensorLikeDataAdapter.__init__.<locals>.slice_batch_indices at 0x7f474ea895e0> and will run it as-is.\n",
      "Please report this to the TensorFlow team. When filing the bug, set the verbosity to 10 (on Linux, `export AUTOGRAPH_VERBOSITY=10`) and attach the full output.\n",
      "Cause: smac attempted to use a functionality that requires module emcee, but it couldn't be loaded. Please install emcee and retry.\n",
      "To silence this warning, decorate the function with @tf.autograph.experimental.do_not_convert\n"
     ]
    },
    {
     "name": "stdout",
     "output_type": "stream",
     "text": [
      "WARNING: AutoGraph could not transform <function TensorLikeDataAdapter.__init__.<locals>.slice_batch_indices at 0x7f474ea895e0> and will run it as-is.\n",
      "Please report this to the TensorFlow team. When filing the bug, set the verbosity to 10 (on Linux, `export AUTOGRAPH_VERBOSITY=10`) and attach the full output.\n",
      "Cause: smac attempted to use a functionality that requires module emcee, but it couldn't be loaded. Please install emcee and retry.\n",
      "To silence this warning, decorate the function with @tf.autograph.experimental.do_not_convert\n",
      "WARNING:tensorflow:AutoGraph could not transform <function TensorLikeDataAdapter.slice_inputs.<locals>.grab_batch at 0x7f474ebb7a60> and will run it as-is.\n",
      "Please report this to the TensorFlow team. When filing the bug, set the verbosity to 10 (on Linux, `export AUTOGRAPH_VERBOSITY=10`) and attach the full output.\n",
      "Cause: smac attempted to use a functionality that requires module emcee, but it couldn't be loaded. Please install emcee and retry.\n",
      "To silence this warning, decorate the function with @tf.autograph.experimental.do_not_convert\n"
     ]
    },
    {
     "name": "stderr",
     "output_type": "stream",
     "text": [
      "WARNING:tensorflow:AutoGraph could not transform <function TensorLikeDataAdapter.slice_inputs.<locals>.grab_batch at 0x7f474ebb7a60> and will run it as-is.\n",
      "Please report this to the TensorFlow team. When filing the bug, set the verbosity to 10 (on Linux, `export AUTOGRAPH_VERBOSITY=10`) and attach the full output.\n",
      "Cause: smac attempted to use a functionality that requires module emcee, but it couldn't be loaded. Please install emcee and retry.\n",
      "To silence this warning, decorate the function with @tf.autograph.experimental.do_not_convert\n"
     ]
    },
    {
     "name": "stdout",
     "output_type": "stream",
     "text": [
      "WARNING: AutoGraph could not transform <function TensorLikeDataAdapter.slice_inputs.<locals>.grab_batch at 0x7f474ebb7a60> and will run it as-is.\n",
      "Please report this to the TensorFlow team. When filing the bug, set the verbosity to 10 (on Linux, `export AUTOGRAPH_VERBOSITY=10`) and attach the full output.\n",
      "Cause: smac attempted to use a functionality that requires module emcee, but it couldn't be loaded. Please install emcee and retry.\n",
      "To silence this warning, decorate the function with @tf.autograph.experimental.do_not_convert\n",
      "WARNING:tensorflow:AutoGraph could not transform <function Model.make_test_function.<locals>.test_function at 0x7f474ebb7af0> and will run it as-is.\n",
      "Please report this to the TensorFlow team. When filing the bug, set the verbosity to 10 (on Linux, `export AUTOGRAPH_VERBOSITY=10`) and attach the full output.\n",
      "Cause: smac attempted to use a functionality that requires module emcee, but it couldn't be loaded. Please install emcee and retry.\n",
      "To silence this warning, decorate the function with @tf.autograph.experimental.do_not_convert\n"
     ]
    },
    {
     "name": "stderr",
     "output_type": "stream",
     "text": [
      "WARNING:tensorflow:AutoGraph could not transform <function Model.make_test_function.<locals>.test_function at 0x7f474ebb7af0> and will run it as-is.\n",
      "Please report this to the TensorFlow team. When filing the bug, set the verbosity to 10 (on Linux, `export AUTOGRAPH_VERBOSITY=10`) and attach the full output.\n",
      "Cause: smac attempted to use a functionality that requires module emcee, but it couldn't be loaded. Please install emcee and retry.\n",
      "To silence this warning, decorate the function with @tf.autograph.experimental.do_not_convert\n"
     ]
    },
    {
     "name": "stdout",
     "output_type": "stream",
     "text": [
      "WARNING: AutoGraph could not transform <function Model.make_test_function.<locals>.test_function at 0x7f474ebb7af0> and will run it as-is.\n",
      "Please report this to the TensorFlow team. When filing the bug, set the verbosity to 10 (on Linux, `export AUTOGRAPH_VERBOSITY=10`) and attach the full output.\n",
      "Cause: smac attempted to use a functionality that requires module emcee, but it couldn't be loaded. Please install emcee and retry.\n",
      "To silence this warning, decorate the function with @tf.autograph.experimental.do_not_convert\n",
      "WARNING:tensorflow:AutoGraph could not transform <function Model.make_test_function.<locals>.step_function.<locals>.run_step at 0x7f474e785d30> and will run it as-is.\n",
      "Please report this to the TensorFlow team. When filing the bug, set the verbosity to 10 (on Linux, `export AUTOGRAPH_VERBOSITY=10`) and attach the full output.\n",
      "Cause: smac attempted to use a functionality that requires module emcee, but it couldn't be loaded. Please install emcee and retry.\n",
      "To silence this warning, decorate the function with @tf.autograph.experimental.do_not_convert\n"
     ]
    },
    {
     "name": "stderr",
     "output_type": "stream",
     "text": [
      "WARNING:tensorflow:AutoGraph could not transform <function Model.make_test_function.<locals>.step_function.<locals>.run_step at 0x7f474e785d30> and will run it as-is.\n",
      "Please report this to the TensorFlow team. When filing the bug, set the verbosity to 10 (on Linux, `export AUTOGRAPH_VERBOSITY=10`) and attach the full output.\n",
      "Cause: smac attempted to use a functionality that requires module emcee, but it couldn't be loaded. Please install emcee and retry.\n",
      "To silence this warning, decorate the function with @tf.autograph.experimental.do_not_convert\n"
     ]
    },
    {
     "name": "stdout",
     "output_type": "stream",
     "text": [
      "WARNING: AutoGraph could not transform <function Model.make_test_function.<locals>.step_function.<locals>.run_step at 0x7f474e785d30> and will run it as-is.\n",
      "Please report this to the TensorFlow team. When filing the bug, set the verbosity to 10 (on Linux, `export AUTOGRAPH_VERBOSITY=10`) and attach the full output.\n",
      "Cause: smac attempted to use a functionality that requires module emcee, but it couldn't be loaded. Please install emcee and retry.\n",
      "To silence this warning, decorate the function with @tf.autograph.experimental.do_not_convert\n"
     ]
    }
   ],
   "source": [
    "history = model.fit(X_train_reshape, y_train_reshape, epochs=3000, batch_size=512, verbose=0, callbacks=[model_checkpoint_callback],\n",
    "          validation_data=(X_train_orig_reshape, y_train_orig_reshape))"
   ]
  },
  {
   "cell_type": "code",
   "execution_count": 25,
   "metadata": {},
   "outputs": [
    {
     "data": {
      "image/png": "[encoded data removed]",
      "text/plain": [
       "<Figure size 720x720 with 2 Axes>"
      ]
     },
     "metadata": {},
     "output_type": "display_data"
    }
   ],
   "source": [
    "fig, ax = plt.subplots(2,1,figsize=(10,10))\n",
    "ax[0].set_title('Cross Entropy Loss', fontsize = 20)\n",
    "ax[0].plot(history.history['loss'], color='blue', label='Train')\n",
    "ax[0].plot(history.history['val_loss'], color='orange', label='Validation')\n",
    "ax[0].set_ylabel('Cross Entropy Loss', fontsize = 16)\n",
    "ax[0].legend(fontsize = 16)\n",
    "\n",
    "ax[1].set_title('Classification Accuracy', fontsize = 20)\n",
    "ax[1].plot(history.history['accuracy'], color='blue', label='Train')\n",
    "ax[1].plot(history.history['val_accuracy'], color='orange', label='Validation')\n",
    "ax[1].set_ylabel('Classification Accuracy', fontsize = 16)\n",
    "ax[1].set_xlabel('Epochs', fontsize = 16)\n",
    "ax[1].legend(fontsize = 16)\n",
    "\n",
    "plt.show()"
   ]
  },
  {
   "cell_type": "markdown",
   "metadata": {},
   "source": [
    "# Analysis\n",
    "************"
   ]
  },
  {
   "cell_type": "code",
   "execution_count": 26,
   "metadata": {},
   "outputs": [
    {
     "name": "stdout",
     "output_type": "stream",
     "text": [
      "Model: \"sequential\"\n",
      "_________________________________________________________________\n",
      "Layer (type)                 Output Shape              Param #   \n",
      "=================================================================\n",
      "lstm (LSTM)                  (None, 20, 500)           1034000   \n",
      "_________________________________________________________________\n",
      "dense (Dense)                (None, 20, 3)             1503      \n",
      "=================================================================\n",
      "Total params: 1,035,503\n",
      "Trainable params: 1,035,503\n",
      "Non-trainable params: 0\n",
      "_________________________________________________________________\n"
     ]
    }
   ],
   "source": [
    "best_model = load_model('model.h5')\n",
    "best_model.summary()"
   ]
  },
  {
   "cell_type": "code",
   "execution_count": 27,
   "metadata": {},
   "outputs": [
    {
     "name": "stdout",
     "output_type": "stream",
     "text": [
      "WARNING:tensorflow:AutoGraph could not transform <function TensorLikeDataAdapter.__init__.<locals>.permutation at 0x7f473c4e4550> and will run it as-is.\n",
      "Please report this to the TensorFlow team. When filing the bug, set the verbosity to 10 (on Linux, `export AUTOGRAPH_VERBOSITY=10`) and attach the full output.\n",
      "Cause: smac attempted to use a functionality that requires module emcee, but it couldn't be loaded. Please install emcee and retry.\n",
      "To silence this warning, decorate the function with @tf.autograph.experimental.do_not_convert\n"
     ]
    },
    {
     "name": "stderr",
     "output_type": "stream",
     "text": [
      "WARNING:tensorflow:AutoGraph could not transform <function TensorLikeDataAdapter.__init__.<locals>.permutation at 0x7f473c4e4550> and will run it as-is.\n",
      "Please report this to the TensorFlow team. When filing the bug, set the verbosity to 10 (on Linux, `export AUTOGRAPH_VERBOSITY=10`) and attach the full output.\n",
      "Cause: smac attempted to use a functionality that requires module emcee, but it couldn't be loaded. Please install emcee and retry.\n",
      "To silence this warning, decorate the function with @tf.autograph.experimental.do_not_convert\n"
     ]
    },
    {
     "name": "stdout",
     "output_type": "stream",
     "text": [
      "WARNING: AutoGraph could not transform <function TensorLikeDataAdapter.__init__.<locals>.permutation at 0x7f473c4e4550> and will run it as-is.\n",
      "Please report this to the TensorFlow team. When filing the bug, set the verbosity to 10 (on Linux, `export AUTOGRAPH_VERBOSITY=10`) and attach the full output.\n",
      "Cause: smac attempted to use a functionality that requires module emcee, but it couldn't be loaded. Please install emcee and retry.\n",
      "To silence this warning, decorate the function with @tf.autograph.experimental.do_not_convert\n",
      "WARNING:tensorflow:AutoGraph could not transform <function TensorLikeDataAdapter.__init__.<locals>.slice_batch_indices at 0x7f473c4efe50> and will run it as-is.\n",
      "Please report this to the TensorFlow team. When filing the bug, set the verbosity to 10 (on Linux, `export AUTOGRAPH_VERBOSITY=10`) and attach the full output.\n",
      "Cause: smac attempted to use a functionality that requires module emcee, but it couldn't be loaded. Please install emcee and retry.\n",
      "To silence this warning, decorate the function with @tf.autograph.experimental.do_not_convert\n"
     ]
    },
    {
     "name": "stderr",
     "output_type": "stream",
     "text": [
      "WARNING:tensorflow:AutoGraph could not transform <function TensorLikeDataAdapter.__init__.<locals>.slice_batch_indices at 0x7f473c4efe50> and will run it as-is.\n",
      "Please report this to the TensorFlow team. When filing the bug, set the verbosity to 10 (on Linux, `export AUTOGRAPH_VERBOSITY=10`) and attach the full output.\n",
      "Cause: smac attempted to use a functionality that requires module emcee, but it couldn't be loaded. Please install emcee and retry.\n",
      "To silence this warning, decorate the function with @tf.autograph.experimental.do_not_convert\n"
     ]
    },
    {
     "name": "stdout",
     "output_type": "stream",
     "text": [
      "WARNING: AutoGraph could not transform <function TensorLikeDataAdapter.__init__.<locals>.slice_batch_indices at 0x7f473c4efe50> and will run it as-is.\n",
      "Please report this to the TensorFlow team. When filing the bug, set the verbosity to 10 (on Linux, `export AUTOGRAPH_VERBOSITY=10`) and attach the full output.\n",
      "Cause: smac attempted to use a functionality that requires module emcee, but it couldn't be loaded. Please install emcee and retry.\n",
      "To silence this warning, decorate the function with @tf.autograph.experimental.do_not_convert\n",
      "WARNING:tensorflow:AutoGraph could not transform <function TensorLikeDataAdapter.slice_inputs.<locals>.grab_batch at 0x7f473c3c0670> and will run it as-is.\n",
      "Please report this to the TensorFlow team. When filing the bug, set the verbosity to 10 (on Linux, `export AUTOGRAPH_VERBOSITY=10`) and attach the full output.\n",
      "Cause: smac attempted to use a functionality that requires module emcee, but it couldn't be loaded. Please install emcee and retry.\n",
      "To silence this warning, decorate the function with @tf.autograph.experimental.do_not_convert\n"
     ]
    },
    {
     "name": "stderr",
     "output_type": "stream",
     "text": [
      "WARNING:tensorflow:AutoGraph could not transform <function TensorLikeDataAdapter.slice_inputs.<locals>.grab_batch at 0x7f473c3c0670> and will run it as-is.\n",
      "Please report this to the TensorFlow team. When filing the bug, set the verbosity to 10 (on Linux, `export AUTOGRAPH_VERBOSITY=10`) and attach the full output.\n",
      "Cause: smac attempted to use a functionality that requires module emcee, but it couldn't be loaded. Please install emcee and retry.\n",
      "To silence this warning, decorate the function with @tf.autograph.experimental.do_not_convert\n"
     ]
    },
    {
     "name": "stdout",
     "output_type": "stream",
     "text": [
      "WARNING: AutoGraph could not transform <function TensorLikeDataAdapter.slice_inputs.<locals>.grab_batch at 0x7f473c3c0670> and will run it as-is.\n",
      "Please report this to the TensorFlow team. When filing the bug, set the verbosity to 10 (on Linux, `export AUTOGRAPH_VERBOSITY=10`) and attach the full output.\n",
      "Cause: smac attempted to use a functionality that requires module emcee, but it couldn't be loaded. Please install emcee and retry.\n",
      "To silence this warning, decorate the function with @tf.autograph.experimental.do_not_convert\n",
      "WARNING:tensorflow:AutoGraph could not transform <function Model.make_predict_function.<locals>.predict_function at 0x7f473c3c0790> and will run it as-is.\n",
      "Please report this to the TensorFlow team. When filing the bug, set the verbosity to 10 (on Linux, `export AUTOGRAPH_VERBOSITY=10`) and attach the full output.\n",
      "Cause: smac attempted to use a functionality that requires module emcee, but it couldn't be loaded. Please install emcee and retry.\n",
      "To silence this warning, decorate the function with @tf.autograph.experimental.do_not_convert\n"
     ]
    },
    {
     "name": "stderr",
     "output_type": "stream",
     "text": [
      "WARNING:tensorflow:AutoGraph could not transform <function Model.make_predict_function.<locals>.predict_function at 0x7f473c3c0790> and will run it as-is.\n",
      "Please report this to the TensorFlow team. When filing the bug, set the verbosity to 10 (on Linux, `export AUTOGRAPH_VERBOSITY=10`) and attach the full output.\n",
      "Cause: smac attempted to use a functionality that requires module emcee, but it couldn't be loaded. Please install emcee and retry.\n",
      "To silence this warning, decorate the function with @tf.autograph.experimental.do_not_convert\n"
     ]
    },
    {
     "name": "stdout",
     "output_type": "stream",
     "text": [
      "WARNING: AutoGraph could not transform <function Model.make_predict_function.<locals>.predict_function at 0x7f473c3c0790> and will run it as-is.\n",
      "Please report this to the TensorFlow team. When filing the bug, set the verbosity to 10 (on Linux, `export AUTOGRAPH_VERBOSITY=10`) and attach the full output.\n",
      "Cause: smac attempted to use a functionality that requires module emcee, but it couldn't be loaded. Please install emcee and retry.\n",
      "To silence this warning, decorate the function with @tf.autograph.experimental.do_not_convert\n",
      "WARNING:tensorflow:AutoGraph could not transform <function Model.make_predict_function.<locals>.step_function.<locals>.run_step at 0x7f473c4ef670> and will run it as-is.\n",
      "Please report this to the TensorFlow team. When filing the bug, set the verbosity to 10 (on Linux, `export AUTOGRAPH_VERBOSITY=10`) and attach the full output.\n",
      "Cause: smac attempted to use a functionality that requires module emcee, but it couldn't be loaded. Please install emcee and retry.\n",
      "To silence this warning, decorate the function with @tf.autograph.experimental.do_not_convert\n"
     ]
    },
    {
     "name": "stderr",
     "output_type": "stream",
     "text": [
      "WARNING:tensorflow:AutoGraph could not transform <function Model.make_predict_function.<locals>.step_function.<locals>.run_step at 0x7f473c4ef670> and will run it as-is.\n",
      "Please report this to the TensorFlow team. When filing the bug, set the verbosity to 10 (on Linux, `export AUTOGRAPH_VERBOSITY=10`) and attach the full output.\n",
      "Cause: smac attempted to use a functionality that requires module emcee, but it couldn't be loaded. Please install emcee and retry.\n",
      "To silence this warning, decorate the function with @tf.autograph.experimental.do_not_convert\n"
     ]
    },
    {
     "name": "stdout",
     "output_type": "stream",
     "text": [
      "WARNING: AutoGraph could not transform <function Model.make_predict_function.<locals>.step_function.<locals>.run_step at 0x7f473c4ef670> and will run it as-is.\n",
      "Please report this to the TensorFlow team. When filing the bug, set the verbosity to 10 (on Linux, `export AUTOGRAPH_VERBOSITY=10`) and attach the full output.\n",
      "Cause: smac attempted to use a functionality that requires module emcee, but it couldn't be loaded. Please install emcee and retry.\n",
      "To silence this warning, decorate the function with @tf.autograph.experimental.do_not_convert\n"
     ]
    },
    {
     "data": {
      "text/plain": [
       "0    21463\n",
       "2     4338\n",
       "1     4199\n",
       "dtype: int64"
      ]
     },
     "execution_count": 27,
     "metadata": {},
     "output_type": "execute_result"
    }
   ],
   "source": [
    "p = pd.DataFrame(best_model.predict(X_train_reshape).reshape(X_train_reshape.shape[0]*X_train_reshape.shape[1],3))\n",
    "p.idxmax(axis=1).value_counts()"
   ]
  },
  {
   "cell_type": "code",
   "execution_count": 28,
   "metadata": {},
   "outputs": [
    {
     "data": {
      "text/html": [
       "<div>\n",
       "<style scoped>\n",
       "    .dataframe tbody tr th:only-of-type {\n",
       "        vertical-align: middle;\n",
       "    }\n",
       "\n",
       "    .dataframe tbody tr th {\n",
       "        vertical-align: top;\n",
       "    }\n",
       "\n",
       "    .dataframe thead th {\n",
       "        text-align: right;\n",
       "    }\n",
       "</style>\n",
       "<table border=\"1\" class=\"dataframe\">\n",
       "  <thead>\n",
       "    <tr style=\"text-align: right;\">\n",
       "      <th></th>\n",
       "      <th>0</th>\n",
       "      <th>1</th>\n",
       "      <th>2</th>\n",
       "      <th>predicted</th>\n",
       "      <th>real</th>\n",
       "    </tr>\n",
       "  </thead>\n",
       "  <tbody>\n",
       "    <tr>\n",
       "      <th>0</th>\n",
       "      <td>6.564172e-01</td>\n",
       "      <td>1.787322e-01</td>\n",
       "      <td>0.164851</td>\n",
       "      <td>0</td>\n",
       "      <td>0.0</td>\n",
       "    </tr>\n",
       "    <tr>\n",
       "      <th>1</th>\n",
       "      <td>6.458440e-01</td>\n",
       "      <td>2.045396e-01</td>\n",
       "      <td>0.149616</td>\n",
       "      <td>0</td>\n",
       "      <td>0.0</td>\n",
       "    </tr>\n",
       "    <tr>\n",
       "      <th>2</th>\n",
       "      <td>7.424663e-01</td>\n",
       "      <td>1.606595e-01</td>\n",
       "      <td>0.096874</td>\n",
       "      <td>0</td>\n",
       "      <td>1.0</td>\n",
       "    </tr>\n",
       "    <tr>\n",
       "      <th>3</th>\n",
       "      <td>8.824847e-01</td>\n",
       "      <td>7.615809e-02</td>\n",
       "      <td>0.041357</td>\n",
       "      <td>0</td>\n",
       "      <td>0.0</td>\n",
       "    </tr>\n",
       "    <tr>\n",
       "      <th>4</th>\n",
       "      <td>9.408914e-01</td>\n",
       "      <td>1.504009e-02</td>\n",
       "      <td>0.044069</td>\n",
       "      <td>0</td>\n",
       "      <td>0.0</td>\n",
       "    </tr>\n",
       "    <tr>\n",
       "      <th>...</th>\n",
       "      <td>...</td>\n",
       "      <td>...</td>\n",
       "      <td>...</td>\n",
       "      <td>...</td>\n",
       "      <td>...</td>\n",
       "    </tr>\n",
       "    <tr>\n",
       "      <th>29995</th>\n",
       "      <td>1.006036e-07</td>\n",
       "      <td>7.144362e-08</td>\n",
       "      <td>1.000000</td>\n",
       "      <td>2</td>\n",
       "      <td>NaN</td>\n",
       "    </tr>\n",
       "    <tr>\n",
       "      <th>29996</th>\n",
       "      <td>3.201934e-07</td>\n",
       "      <td>2.583492e-07</td>\n",
       "      <td>0.999999</td>\n",
       "      <td>2</td>\n",
       "      <td>NaN</td>\n",
       "    </tr>\n",
       "    <tr>\n",
       "      <th>29997</th>\n",
       "      <td>7.087587e-08</td>\n",
       "      <td>1.160608e-07</td>\n",
       "      <td>1.000000</td>\n",
       "      <td>2</td>\n",
       "      <td>NaN</td>\n",
       "    </tr>\n",
       "    <tr>\n",
       "      <th>29998</th>\n",
       "      <td>1.657479e-07</td>\n",
       "      <td>1.361344e-07</td>\n",
       "      <td>1.000000</td>\n",
       "      <td>2</td>\n",
       "      <td>NaN</td>\n",
       "    </tr>\n",
       "    <tr>\n",
       "      <th>29999</th>\n",
       "      <td>3.063357e-07</td>\n",
       "      <td>2.741467e-07</td>\n",
       "      <td>0.999999</td>\n",
       "      <td>2</td>\n",
       "      <td>NaN</td>\n",
       "    </tr>\n",
       "  </tbody>\n",
       "</table>\n",
       "<p>30000 rows × 5 columns</p>\n",
       "</div>"
      ],
      "text/plain": [
       "                  0             1         2  predicted  real\n",
       "0      6.564172e-01  1.787322e-01  0.164851          0   0.0\n",
       "1      6.458440e-01  2.045396e-01  0.149616          0   0.0\n",
       "2      7.424663e-01  1.606595e-01  0.096874          0   1.0\n",
       "3      8.824847e-01  7.615809e-02  0.041357          0   0.0\n",
       "4      9.408914e-01  1.504009e-02  0.044069          0   0.0\n",
       "...             ...           ...       ...        ...   ...\n",
       "29995  1.006036e-07  7.144362e-08  1.000000          2   NaN\n",
       "29996  3.201934e-07  2.583492e-07  0.999999          2   NaN\n",
       "29997  7.087587e-08  1.160608e-07  1.000000          2   NaN\n",
       "29998  1.657479e-07  1.361344e-07  1.000000          2   NaN\n",
       "29999  3.063357e-07  2.741467e-07  0.999999          2   NaN\n",
       "\n",
       "[30000 rows x 5 columns]"
      ]
     },
     "execution_count": 28,
     "metadata": {},
     "output_type": "execute_result"
    }
   ],
   "source": [
    "p['predicted'] = p.idxmax(axis=1)\n",
    "p['real'] = y_train\n",
    "p"
   ]
  },
  {
   "cell_type": "code",
   "execution_count": 29,
   "metadata": {},
   "outputs": [
    {
     "name": "stdout",
     "output_type": "stream",
     "text": [
      "Accuracy:  0.40753333333333336\n"
     ]
    }
   ],
   "source": [
    "accuracy = (p['predicted'] == p['real']).sum()\n",
    "print('Accuracy: ',accuracy/p.shape[0])"
   ]
  },
  {
   "cell_type": "markdown",
   "metadata": {},
   "source": [
    "# Prediction\n",
    "***********"
   ]
  },
  {
   "cell_type": "code",
   "execution_count": 30,
   "metadata": {},
   "outputs": [
    {
     "data": {
      "text/plain": [
       "(5443, 16)"
      ]
     },
     "execution_count": 30,
     "metadata": {},
     "output_type": "execute_result"
    }
   ],
   "source": [
    "X_test.shape"
   ]
  },
  {
   "cell_type": "code",
   "execution_count": 31,
   "metadata": {},
   "outputs": [
    {
     "name": "stdout",
     "output_type": "stream",
     "text": [
      "WARNING:tensorflow:AutoGraph could not transform <function TensorLikeDataAdapter.__init__.<locals>.permutation at 0x7f473c3c09d0> and will run it as-is.\n",
      "Please report this to the TensorFlow team. When filing the bug, set the verbosity to 10 (on Linux, `export AUTOGRAPH_VERBOSITY=10`) and attach the full output.\n",
      "Cause: smac attempted to use a functionality that requires module emcee, but it couldn't be loaded. Please install emcee and retry.\n",
      "To silence this warning, decorate the function with @tf.autograph.experimental.do_not_convert\n"
     ]
    },
    {
     "name": "stderr",
     "output_type": "stream",
     "text": [
      "WARNING:tensorflow:AutoGraph could not transform <function TensorLikeDataAdapter.__init__.<locals>.permutation at 0x7f473c3c09d0> and will run it as-is.\n",
      "Please report this to the TensorFlow team. When filing the bug, set the verbosity to 10 (on Linux, `export AUTOGRAPH_VERBOSITY=10`) and attach the full output.\n",
      "Cause: smac attempted to use a functionality that requires module emcee, but it couldn't be loaded. Please install emcee and retry.\n",
      "To silence this warning, decorate the function with @tf.autograph.experimental.do_not_convert\n"
     ]
    },
    {
     "name": "stdout",
     "output_type": "stream",
     "text": [
      "WARNING: AutoGraph could not transform <function TensorLikeDataAdapter.__init__.<locals>.permutation at 0x7f473c3c09d0> and will run it as-is.\n",
      "Please report this to the TensorFlow team. When filing the bug, set the verbosity to 10 (on Linux, `export AUTOGRAPH_VERBOSITY=10`) and attach the full output.\n",
      "Cause: smac attempted to use a functionality that requires module emcee, but it couldn't be loaded. Please install emcee and retry.\n",
      "To silence this warning, decorate the function with @tf.autograph.experimental.do_not_convert\n",
      "WARNING:tensorflow:AutoGraph could not transform <function TensorLikeDataAdapter.__init__.<locals>.slice_batch_indices at 0x7f473c731700> and will run it as-is.\n",
      "Please report this to the TensorFlow team. When filing the bug, set the verbosity to 10 (on Linux, `export AUTOGRAPH_VERBOSITY=10`) and attach the full output.\n",
      "Cause: smac attempted to use a functionality that requires module emcee, but it couldn't be loaded. Please install emcee and retry.\n",
      "To silence this warning, decorate the function with @tf.autograph.experimental.do_not_convert\n"
     ]
    },
    {
     "name": "stderr",
     "output_type": "stream",
     "text": [
      "WARNING:tensorflow:AutoGraph could not transform <function TensorLikeDataAdapter.__init__.<locals>.slice_batch_indices at 0x7f473c731700> and will run it as-is.\n",
      "Please report this to the TensorFlow team. When filing the bug, set the verbosity to 10 (on Linux, `export AUTOGRAPH_VERBOSITY=10`) and attach the full output.\n",
      "Cause: smac attempted to use a functionality that requires module emcee, but it couldn't be loaded. Please install emcee and retry.\n",
      "To silence this warning, decorate the function with @tf.autograph.experimental.do_not_convert\n"
     ]
    },
    {
     "name": "stdout",
     "output_type": "stream",
     "text": [
      "WARNING: AutoGraph could not transform <function TensorLikeDataAdapter.__init__.<locals>.slice_batch_indices at 0x7f473c731700> and will run it as-is.\n",
      "Please report this to the TensorFlow team. When filing the bug, set the verbosity to 10 (on Linux, `export AUTOGRAPH_VERBOSITY=10`) and attach the full output.\n",
      "Cause: smac attempted to use a functionality that requires module emcee, but it couldn't be loaded. Please install emcee and retry.\n",
      "To silence this warning, decorate the function with @tf.autograph.experimental.do_not_convert\n",
      "WARNING:tensorflow:AutoGraph could not transform <function TensorLikeDataAdapter.slice_inputs.<locals>.grab_batch at 0x7f473c3d9310> and will run it as-is.\n",
      "Please report this to the TensorFlow team. When filing the bug, set the verbosity to 10 (on Linux, `export AUTOGRAPH_VERBOSITY=10`) and attach the full output.\n",
      "Cause: smac attempted to use a functionality that requires module emcee, but it couldn't be loaded. Please install emcee and retry.\n",
      "To silence this warning, decorate the function with @tf.autograph.experimental.do_not_convert\n"
     ]
    },
    {
     "name": "stderr",
     "output_type": "stream",
     "text": [
      "WARNING:tensorflow:AutoGraph could not transform <function TensorLikeDataAdapter.slice_inputs.<locals>.grab_batch at 0x7f473c3d9310> and will run it as-is.\n",
      "Please report this to the TensorFlow team. When filing the bug, set the verbosity to 10 (on Linux, `export AUTOGRAPH_VERBOSITY=10`) and attach the full output.\n",
      "Cause: smac attempted to use a functionality that requires module emcee, but it couldn't be loaded. Please install emcee and retry.\n",
      "To silence this warning, decorate the function with @tf.autograph.experimental.do_not_convert\n"
     ]
    },
    {
     "name": "stdout",
     "output_type": "stream",
     "text": [
      "WARNING: AutoGraph could not transform <function TensorLikeDataAdapter.slice_inputs.<locals>.grab_batch at 0x7f473c3d9310> and will run it as-is.\n",
      "Please report this to the TensorFlow team. When filing the bug, set the verbosity to 10 (on Linux, `export AUTOGRAPH_VERBOSITY=10`) and attach the full output.\n",
      "Cause: smac attempted to use a functionality that requires module emcee, but it couldn't be loaded. Please install emcee and retry.\n",
      "To silence this warning, decorate the function with @tf.autograph.experimental.do_not_convert\n"
     ]
    },
    {
     "data": {
      "text/plain": [
       "0    5179\n",
       "2     170\n",
       "1      91\n",
       "dtype: int64"
      ]
     },
     "execution_count": 31,
     "metadata": {},
     "output_type": "execute_result"
    }
   ],
   "source": [
    "\n",
    "X_test_orig = X_test[:-3]\n",
    "\n",
    "timesteps = 20\n",
    "samples = int(X_test_orig.shape[0]/timesteps)\n",
    "features = len(cols)\n",
    "\n",
    "X_test_orig_reshape = np.array(X_test_orig).reshape(samples, timesteps, features)\n",
    "\n",
    "res = pd.DataFrame(best_model.predict(X_test_orig_reshape).reshape(X_test_orig_reshape.shape[0]*X_test_orig_reshape.shape[1],3))\n",
    "res.idxmax(axis=1).value_counts()"
   ]
  },
  {
   "cell_type": "code",
   "execution_count": 32,
   "metadata": {},
   "outputs": [],
   "source": [
    "result = list(res.idxmax(axis=1))\n",
    "result.append(0)\n",
    "result.append(0)\n",
    "result.append(0)"
   ]
  },
  {
   "cell_type": "code",
   "execution_count": 34,
   "metadata": {},
   "outputs": [
    {
     "data": {
      "text/plain": [
       "(5443, 1)"
      ]
     },
     "execution_count": 34,
     "metadata": {},
     "output_type": "execute_result"
    }
   ],
   "source": [
    "pd.DataFrame(result).shape"
   ]
  },
  {
   "cell_type": "code",
   "execution_count": 36,
   "metadata": {},
   "outputs": [],
   "source": [
    "pd.DataFrame(result).to_csv(path + 'interim/result.csv')"
   ]
  },
  {
   "cell_type": "code",
   "execution_count": 37,
   "metadata": {},
   "outputs": [
    {
     "data": {
      "text/html": [
       "<div>\n",
       "<style scoped>\n",
       "    .dataframe tbody tr th:only-of-type {\n",
       "        vertical-align: middle;\n",
       "    }\n",
       "\n",
       "    .dataframe tbody tr th {\n",
       "        vertical-align: top;\n",
       "    }\n",
       "\n",
       "    .dataframe thead th {\n",
       "        text-align: right;\n",
       "    }\n",
       "</style>\n",
       "<table border=\"1\" class=\"dataframe\">\n",
       "  <thead>\n",
       "    <tr style=\"text-align: right;\">\n",
       "      <th></th>\n",
       "      <th>0</th>\n",
       "      <th>1</th>\n",
       "      <th>2</th>\n",
       "    </tr>\n",
       "  </thead>\n",
       "  <tbody>\n",
       "    <tr>\n",
       "      <th>0</th>\n",
       "      <td>0.547204</td>\n",
       "      <td>2.144386e-01</td>\n",
       "      <td>2.383574e-01</td>\n",
       "    </tr>\n",
       "    <tr>\n",
       "      <th>1</th>\n",
       "      <td>0.675987</td>\n",
       "      <td>1.605310e-01</td>\n",
       "      <td>1.634820e-01</td>\n",
       "    </tr>\n",
       "    <tr>\n",
       "      <th>2</th>\n",
       "      <td>0.706000</td>\n",
       "      <td>1.010014e-01</td>\n",
       "      <td>1.929985e-01</td>\n",
       "    </tr>\n",
       "    <tr>\n",
       "      <th>3</th>\n",
       "      <td>0.884684</td>\n",
       "      <td>7.209050e-03</td>\n",
       "      <td>1.081069e-01</td>\n",
       "    </tr>\n",
       "    <tr>\n",
       "      <th>4</th>\n",
       "      <td>0.271106</td>\n",
       "      <td>7.470303e-02</td>\n",
       "      <td>6.541908e-01</td>\n",
       "    </tr>\n",
       "    <tr>\n",
       "      <th>...</th>\n",
       "      <td>...</td>\n",
       "      <td>...</td>\n",
       "      <td>...</td>\n",
       "    </tr>\n",
       "    <tr>\n",
       "      <th>5435</th>\n",
       "      <td>0.996890</td>\n",
       "      <td>3.064267e-03</td>\n",
       "      <td>4.533954e-05</td>\n",
       "    </tr>\n",
       "    <tr>\n",
       "      <th>5436</th>\n",
       "      <td>0.999965</td>\n",
       "      <td>3.394425e-05</td>\n",
       "      <td>8.588178e-07</td>\n",
       "    </tr>\n",
       "    <tr>\n",
       "      <th>5437</th>\n",
       "      <td>1.000000</td>\n",
       "      <td>1.547823e-07</td>\n",
       "      <td>3.070409e-07</td>\n",
       "    </tr>\n",
       "    <tr>\n",
       "      <th>5438</th>\n",
       "      <td>0.379055</td>\n",
       "      <td>1.725991e-04</td>\n",
       "      <td>6.207723e-01</td>\n",
       "    </tr>\n",
       "    <tr>\n",
       "      <th>5439</th>\n",
       "      <td>0.999821</td>\n",
       "      <td>6.933985e-05</td>\n",
       "      <td>1.092904e-04</td>\n",
       "    </tr>\n",
       "  </tbody>\n",
       "</table>\n",
       "<p>5440 rows × 3 columns</p>\n",
       "</div>"
      ],
      "text/plain": [
       "             0             1             2\n",
       "0     0.547204  2.144386e-01  2.383574e-01\n",
       "1     0.675987  1.605310e-01  1.634820e-01\n",
       "2     0.706000  1.010014e-01  1.929985e-01\n",
       "3     0.884684  7.209050e-03  1.081069e-01\n",
       "4     0.271106  7.470303e-02  6.541908e-01\n",
       "...        ...           ...           ...\n",
       "5435  0.996890  3.064267e-03  4.533954e-05\n",
       "5436  0.999965  3.394425e-05  8.588178e-07\n",
       "5437  1.000000  1.547823e-07  3.070409e-07\n",
       "5438  0.379055  1.725991e-04  6.207723e-01\n",
       "5439  0.999821  6.933985e-05  1.092904e-04\n",
       "\n",
       "[5440 rows x 3 columns]"
      ]
     },
     "execution_count": 37,
     "metadata": {},
     "output_type": "execute_result"
    }
   ],
   "source": [
    "res"
   ]
  },
  {
   "cell_type": "code",
   "execution_count": null,
   "metadata": {},
   "outputs": [],
   "source": []
  }
 ],
 "metadata": {
  "kernelspec": {
   "display_name": "Python 3 (ipykernel)",
   "language": "python",
   "name": "python3"
  },
  "language_info": {
   "codemirror_mode": {
    "name": "ipython",
    "version": 3
   },
   "file_extension": ".py",
   "mimetype": "text/x-python",
   "name": "python",
   "nbconvert_exporter": "python",
   "pygments_lexer": "ipython3",
   "version": "3.8.5"
  }
 },
 "nbformat": 4,
 "nbformat_minor": 2
}
