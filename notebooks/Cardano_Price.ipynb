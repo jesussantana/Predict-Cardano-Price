{
 "cells": [
  {
   "cell_type": "markdown",
   "source": [
    "# [DATA SCIENCE CHALLENGE SCL WEEK 1](#)\n",
    "## [Predict Cardano Price](https://github.com/jesussantana/Predict-Cardano-Price)  \n",
    "## Models\n",
    "*************\n",
    "[![forthebadge made-with-python](http://ForTheBadge.com/images/badges/made-with-python.svg)](https://www.python.org/)  \n",
    " \n",
    "[![Made withJupyter](https://img.shields.io/badge/Made%20with-Jupyter-orange?style=for-the-badge&logo=Jupyter)](https://jupyter.org/try)  \n",
    "\n",
    "[![Linkedin: Jesus Santana](https://img.shields.io/badge/-JesusSantana-blue?style=flat-square&logo=Linkedin&logoColor=white&link=https://www.linkedin.com/in/chus-santana/)](https://www.linkedin.com/in/chus-santana/)  \n",
    "[![GitHub JesusSantana](https://img.shields.io/github/followers/jesussantana?label=follow&style=social)](https://github.com/jesussantana) "
   ],
   "metadata": {}
  },
  {
   "cell_type": "code",
   "execution_count": 1,
   "source": [
    "import matplotlib.pyplot as plt\n",
    "import pandas as pd\n",
    "import seaborn as sns\n",
    "import numpy as np\n",
    "# ^^^ pyforest auto-imports - don't write above this line\n",
    "# ==============================================================================\n",
    "# Auto Import Dependencies\n",
    "# ==============================================================================\n",
    "# pyforest imports dependencies according to use in the notebook\n",
    "# =============================================================================="
   ],
   "outputs": [],
   "metadata": {}
  },
  {
   "cell_type": "code",
   "execution_count": 2,
   "source": [
    "#!pip install mplfinance\n",
    "#import mplfinance as mpf\n",
    "#!pip install keras\n",
    "#!pip install tensorflow\n",
    "#!pip install imblearn"
   ],
   "outputs": [],
   "metadata": {}
  },
  {
   "cell_type": "code",
   "execution_count": 4,
   "source": [
    "# Dependencies not Included in Auto Import*\n",
    "# ==============================================================================\n",
    "import time\n",
    "\n",
    "import keras\n",
    "from tensorflow import keras as ks\n",
    "\n",
    "from keras.layers import TimeDistributed\n",
    "from keras.models import load_model\n",
    "\n",
    "from sklearn.preprocessing import MinMaxScaler, StandardScaler\n",
    "\n",
    "from keras.utils.np_utils import to_categorical\n",
    "from keras.models import Sequential\n",
    "from keras.layers import LSTM\n",
    "from keras.layers import Dense\n",
    "from keras.layers import TimeDistributed\n",
    "\n",
    "from keras.models import Sequential\n",
    "from keras.layers import Dense, Dropout\n",
    "\n",
    "from keras.callbacks import ModelCheckpoint\n",
    "\n",
    "from imblearn.over_sampling import SMOTE\n",
    "\n",
    "from sklearn.preprocessing import MinMaxScaler\n",
    "\n",
    "# Pandas configuration\n",
    "# ==============================================================================\n",
    "pd.set_option('display.max_columns', None)\n",
    "\n",
    "# # Graphics\n",
    "# ==============================================================================\n",
    "import matplotlib.ticker as ticker\n",
    "from matplotlib import style\n",
    "import matplotlib.pyplot as plotter\n",
    "import plotly.express as px\n",
    "\n",
    "# Matplotlib configuration\n",
    "# ==============================================================================\n",
    "plt.rcParams['image.cmap'] = \"bwr\"\n",
    "#plt.rcParams['figure.dpi'] = \"100\"\n",
    "plt.rcParams['savefig.bbox'] = \"tight\"\n",
    "style.use('ggplot') or plt.style.use('ggplot')\n",
    "%matplotlib inline\n",
    "\n",
    "# Seaborn configuration\n",
    "# ==============================================================================\n",
    "sns.set_theme(style='darkgrid', palette='deep')\n",
    "dims = (20, 16)\n",
    "\n",
    "# Warnings configuration\n",
    "# ==============================================================================\n",
    "import warnings\n",
    "warnings.filterwarnings('ignore')\n",
    "\n",
    "# Folder configuration\n",
    "# ==============================================================================\n",
    "from os import path\n",
    "import sys\n",
    "new_path = '../scripts/'\n",
    "if new_path not in sys.path:\n",
    "    sys.path.append(new_path)\n",
    "path = \"../data/\""
   ],
   "outputs": [],
   "metadata": {}
  },
  {
   "cell_type": "markdown",
   "source": [
    "# Explore Dataset\n",
    "**********"
   ],
   "metadata": {}
  },
  {
   "cell_type": "code",
   "execution_count": 5,
   "source": [
    "df_train = pd.read_csv(path + 'raw/train.csv')"
   ],
   "outputs": [],
   "metadata": {}
  },
  {
   "cell_type": "code",
   "execution_count": 6,
   "source": [
    "df_test = pd.read_csv(path + 'raw/test_predictors.csv')"
   ],
   "outputs": [],
   "metadata": {}
  },
  {
   "cell_type": "code",
   "execution_count": 7,
   "source": [
    "df_train.head()"
   ],
   "outputs": [
    {
     "output_type": "execute_result",
     "data": {
      "text/plain": [
       "             Open_time    Open    High     Low   Close      Volume  \\\n",
       "0  2021-05-13 09:00:00  1.6625  1.6800  1.6623  1.6737  2878032.99   \n",
       "1  2021-05-13 09:05:00  1.6738  1.6790  1.6686  1.6733  2723854.15   \n",
       "2  2021-05-13 09:10:00  1.6734  1.6749  1.6496  1.6514  3653708.06   \n",
       "3  2021-05-13 09:15:00  1.6515  1.6708  1.6500  1.6693  3313388.75   \n",
       "4  2021-05-13 09:20:00  1.6690  1.6728  1.6587  1.6668  3478711.17   \n",
       "\n",
       "             QV   NOT         TBB           TBQ  Volatility  target  \n",
       "0  4.821304e+06  5125  1702161.28  2.851617e+06    0.673684       0  \n",
       "1  4.558141e+06  4318  1516726.12  2.538139e+06   -0.029872       0  \n",
       "2  6.075417e+06  5561  1625405.03  2.702822e+06   -1.314689       1  \n",
       "3  5.505110e+06  5374  1797877.23  2.987432e+06    1.077808       0  \n",
       "4  5.794350e+06  5799  1736515.81  2.892649e+06   -0.131815       0  "
      ],
      "text/html": [
       "<div>\n",
       "<style scoped>\n",
       "    .dataframe tbody tr th:only-of-type {\n",
       "        vertical-align: middle;\n",
       "    }\n",
       "\n",
       "    .dataframe tbody tr th {\n",
       "        vertical-align: top;\n",
       "    }\n",
       "\n",
       "    .dataframe thead th {\n",
       "        text-align: right;\n",
       "    }\n",
       "</style>\n",
       "<table border=\"1\" class=\"dataframe\">\n",
       "  <thead>\n",
       "    <tr style=\"text-align: right;\">\n",
       "      <th></th>\n",
       "      <th>Open_time</th>\n",
       "      <th>Open</th>\n",
       "      <th>High</th>\n",
       "      <th>Low</th>\n",
       "      <th>Close</th>\n",
       "      <th>Volume</th>\n",
       "      <th>QV</th>\n",
       "      <th>NOT</th>\n",
       "      <th>TBB</th>\n",
       "      <th>TBQ</th>\n",
       "      <th>Volatility</th>\n",
       "      <th>target</th>\n",
       "    </tr>\n",
       "  </thead>\n",
       "  <tbody>\n",
       "    <tr>\n",
       "      <th>0</th>\n",
       "      <td>2021-05-13 09:00:00</td>\n",
       "      <td>1.6625</td>\n",
       "      <td>1.6800</td>\n",
       "      <td>1.6623</td>\n",
       "      <td>1.6737</td>\n",
       "      <td>2878032.99</td>\n",
       "      <td>4.821304e+06</td>\n",
       "      <td>5125</td>\n",
       "      <td>1702161.28</td>\n",
       "      <td>2.851617e+06</td>\n",
       "      <td>0.673684</td>\n",
       "      <td>0</td>\n",
       "    </tr>\n",
       "    <tr>\n",
       "      <th>1</th>\n",
       "      <td>2021-05-13 09:05:00</td>\n",
       "      <td>1.6738</td>\n",
       "      <td>1.6790</td>\n",
       "      <td>1.6686</td>\n",
       "      <td>1.6733</td>\n",
       "      <td>2723854.15</td>\n",
       "      <td>4.558141e+06</td>\n",
       "      <td>4318</td>\n",
       "      <td>1516726.12</td>\n",
       "      <td>2.538139e+06</td>\n",
       "      <td>-0.029872</td>\n",
       "      <td>0</td>\n",
       "    </tr>\n",
       "    <tr>\n",
       "      <th>2</th>\n",
       "      <td>2021-05-13 09:10:00</td>\n",
       "      <td>1.6734</td>\n",
       "      <td>1.6749</td>\n",
       "      <td>1.6496</td>\n",
       "      <td>1.6514</td>\n",
       "      <td>3653708.06</td>\n",
       "      <td>6.075417e+06</td>\n",
       "      <td>5561</td>\n",
       "      <td>1625405.03</td>\n",
       "      <td>2.702822e+06</td>\n",
       "      <td>-1.314689</td>\n",
       "      <td>1</td>\n",
       "    </tr>\n",
       "    <tr>\n",
       "      <th>3</th>\n",
       "      <td>2021-05-13 09:15:00</td>\n",
       "      <td>1.6515</td>\n",
       "      <td>1.6708</td>\n",
       "      <td>1.6500</td>\n",
       "      <td>1.6693</td>\n",
       "      <td>3313388.75</td>\n",
       "      <td>5.505110e+06</td>\n",
       "      <td>5374</td>\n",
       "      <td>1797877.23</td>\n",
       "      <td>2.987432e+06</td>\n",
       "      <td>1.077808</td>\n",
       "      <td>0</td>\n",
       "    </tr>\n",
       "    <tr>\n",
       "      <th>4</th>\n",
       "      <td>2021-05-13 09:20:00</td>\n",
       "      <td>1.6690</td>\n",
       "      <td>1.6728</td>\n",
       "      <td>1.6587</td>\n",
       "      <td>1.6668</td>\n",
       "      <td>3478711.17</td>\n",
       "      <td>5.794350e+06</td>\n",
       "      <td>5799</td>\n",
       "      <td>1736515.81</td>\n",
       "      <td>2.892649e+06</td>\n",
       "      <td>-0.131815</td>\n",
       "      <td>0</td>\n",
       "    </tr>\n",
       "  </tbody>\n",
       "</table>\n",
       "</div>"
      ]
     },
     "metadata": {},
     "execution_count": 7
    }
   ],
   "metadata": {}
  },
  {
   "cell_type": "code",
   "execution_count": 8,
   "source": [
    "df_train.info()"
   ],
   "outputs": [
    {
     "output_type": "stream",
     "name": "stdout",
     "text": [
      "<class 'pandas.core.frame.DataFrame'>\n",
      "RangeIndex: 12701 entries, 0 to 12700\n",
      "Data columns (total 12 columns):\n",
      " #   Column      Non-Null Count  Dtype  \n",
      "---  ------      --------------  -----  \n",
      " 0   Open_time   12701 non-null  object \n",
      " 1   Open        12701 non-null  float64\n",
      " 2   High        12701 non-null  float64\n",
      " 3   Low         12701 non-null  float64\n",
      " 4   Close       12701 non-null  float64\n",
      " 5   Volume      12701 non-null  float64\n",
      " 6   QV          12701 non-null  float64\n",
      " 7   NOT         12701 non-null  int64  \n",
      " 8   TBB         12701 non-null  float64\n",
      " 9   TBQ         12701 non-null  float64\n",
      " 10  Volatility  12701 non-null  float64\n",
      " 11  target      12701 non-null  int64  \n",
      "dtypes: float64(9), int64(2), object(1)\n",
      "memory usage: 1.2+ MB\n"
     ]
    }
   ],
   "metadata": {}
  },
  {
   "cell_type": "code",
   "execution_count": 9,
   "source": [
    "df_test.head()"
   ],
   "outputs": [
    {
     "output_type": "execute_result",
     "data": {
      "text/plain": [
       "             Open_time    Open    High     Low   Close      Volume  \\\n",
       "0  2021-06-26 11:25:00  1.2420  1.2439  1.2401  1.2423   762888.34   \n",
       "1  2021-06-26 11:30:00  1.2424  1.2461  1.2422  1.2449   768319.91   \n",
       "2  2021-06-26 11:35:00  1.2449  1.2497  1.2440  1.2451   920008.82   \n",
       "3  2021-06-26 11:40:00  1.2451  1.2520  1.2444  1.2477  3320275.56   \n",
       "4  2021-06-26 11:45:00  1.2476  1.2570  1.2442  1.2552  1347381.74   \n",
       "\n",
       "             QV   NOT         TBB           TBQ  Volatility  \n",
       "0  9.471762e+05   991   492672.20  6.116442e+05    0.024155  \n",
       "1  9.560712e+05  1025   355521.71  4.423621e+05    0.201223  \n",
       "2  1.147285e+06  1519   413771.18  5.159426e+05    0.016066  \n",
       "3  4.146741e+06  3218  2066342.58  2.580730e+06    0.208819  \n",
       "4  1.686204e+06  2446   715783.34  8.958810e+05    0.609170  "
      ],
      "text/html": [
       "<div>\n",
       "<style scoped>\n",
       "    .dataframe tbody tr th:only-of-type {\n",
       "        vertical-align: middle;\n",
       "    }\n",
       "\n",
       "    .dataframe tbody tr th {\n",
       "        vertical-align: top;\n",
       "    }\n",
       "\n",
       "    .dataframe thead th {\n",
       "        text-align: right;\n",
       "    }\n",
       "</style>\n",
       "<table border=\"1\" class=\"dataframe\">\n",
       "  <thead>\n",
       "    <tr style=\"text-align: right;\">\n",
       "      <th></th>\n",
       "      <th>Open_time</th>\n",
       "      <th>Open</th>\n",
       "      <th>High</th>\n",
       "      <th>Low</th>\n",
       "      <th>Close</th>\n",
       "      <th>Volume</th>\n",
       "      <th>QV</th>\n",
       "      <th>NOT</th>\n",
       "      <th>TBB</th>\n",
       "      <th>TBQ</th>\n",
       "      <th>Volatility</th>\n",
       "    </tr>\n",
       "  </thead>\n",
       "  <tbody>\n",
       "    <tr>\n",
       "      <th>0</th>\n",
       "      <td>2021-06-26 11:25:00</td>\n",
       "      <td>1.2420</td>\n",
       "      <td>1.2439</td>\n",
       "      <td>1.2401</td>\n",
       "      <td>1.2423</td>\n",
       "      <td>762888.34</td>\n",
       "      <td>9.471762e+05</td>\n",
       "      <td>991</td>\n",
       "      <td>492672.20</td>\n",
       "      <td>6.116442e+05</td>\n",
       "      <td>0.024155</td>\n",
       "    </tr>\n",
       "    <tr>\n",
       "      <th>1</th>\n",
       "      <td>2021-06-26 11:30:00</td>\n",
       "      <td>1.2424</td>\n",
       "      <td>1.2461</td>\n",
       "      <td>1.2422</td>\n",
       "      <td>1.2449</td>\n",
       "      <td>768319.91</td>\n",
       "      <td>9.560712e+05</td>\n",
       "      <td>1025</td>\n",
       "      <td>355521.71</td>\n",
       "      <td>4.423621e+05</td>\n",
       "      <td>0.201223</td>\n",
       "    </tr>\n",
       "    <tr>\n",
       "      <th>2</th>\n",
       "      <td>2021-06-26 11:35:00</td>\n",
       "      <td>1.2449</td>\n",
       "      <td>1.2497</td>\n",
       "      <td>1.2440</td>\n",
       "      <td>1.2451</td>\n",
       "      <td>920008.82</td>\n",
       "      <td>1.147285e+06</td>\n",
       "      <td>1519</td>\n",
       "      <td>413771.18</td>\n",
       "      <td>5.159426e+05</td>\n",
       "      <td>0.016066</td>\n",
       "    </tr>\n",
       "    <tr>\n",
       "      <th>3</th>\n",
       "      <td>2021-06-26 11:40:00</td>\n",
       "      <td>1.2451</td>\n",
       "      <td>1.2520</td>\n",
       "      <td>1.2444</td>\n",
       "      <td>1.2477</td>\n",
       "      <td>3320275.56</td>\n",
       "      <td>4.146741e+06</td>\n",
       "      <td>3218</td>\n",
       "      <td>2066342.58</td>\n",
       "      <td>2.580730e+06</td>\n",
       "      <td>0.208819</td>\n",
       "    </tr>\n",
       "    <tr>\n",
       "      <th>4</th>\n",
       "      <td>2021-06-26 11:45:00</td>\n",
       "      <td>1.2476</td>\n",
       "      <td>1.2570</td>\n",
       "      <td>1.2442</td>\n",
       "      <td>1.2552</td>\n",
       "      <td>1347381.74</td>\n",
       "      <td>1.686204e+06</td>\n",
       "      <td>2446</td>\n",
       "      <td>715783.34</td>\n",
       "      <td>8.958810e+05</td>\n",
       "      <td>0.609170</td>\n",
       "    </tr>\n",
       "  </tbody>\n",
       "</table>\n",
       "</div>"
      ]
     },
     "metadata": {},
     "execution_count": 9
    }
   ],
   "metadata": {}
  },
  {
   "cell_type": "code",
   "execution_count": 10,
   "source": [
    "df_test.head().info()"
   ],
   "outputs": [
    {
     "output_type": "stream",
     "name": "stdout",
     "text": [
      "<class 'pandas.core.frame.DataFrame'>\n",
      "RangeIndex: 5 entries, 0 to 4\n",
      "Data columns (total 11 columns):\n",
      " #   Column      Non-Null Count  Dtype  \n",
      "---  ------      --------------  -----  \n",
      " 0   Open_time   5 non-null      object \n",
      " 1   Open        5 non-null      float64\n",
      " 2   High        5 non-null      float64\n",
      " 3   Low         5 non-null      float64\n",
      " 4   Close       5 non-null      float64\n",
      " 5   Volume      5 non-null      float64\n",
      " 6   QV          5 non-null      float64\n",
      " 7   NOT         5 non-null      int64  \n",
      " 8   TBB         5 non-null      float64\n",
      " 9   TBQ         5 non-null      float64\n",
      " 10  Volatility  5 non-null      float64\n",
      "dtypes: float64(9), int64(1), object(1)\n",
      "memory usage: 568.0+ bytes\n"
     ]
    }
   ],
   "metadata": {}
  },
  {
   "cell_type": "code",
   "execution_count": 11,
   "source": [
    "def convert_time(df):\n",
    "\n",
    "  df = df.sort_values('Open_time')\n",
    "\n",
    "  df['Year'] = [int(x[:4]) for x in df['Open_time'] ]\n",
    "  df['Month'] = [int(x[5:7]) for x in df['Open_time'] ]\n",
    "  df['Day'] = [int(x[8:11]) for x in df['Open_time'] ]\n",
    "\n",
    "  df['Hour'] = [int(x[11:13]) for x in df['Open_time'] ]\n",
    "  df['Minute'] = [int(x[14:16]) for x in df['Open_time'] ]\n",
    "\n",
    "  df['Open_time'] = [time.mktime(time.strptime(x, \"%Y-%m-%d %H:%M:%S\")) for x in df['Open_time'] ]\n",
    "\n",
    "  return df"
   ],
   "outputs": [],
   "metadata": {}
  },
  {
   "cell_type": "code",
   "execution_count": 12,
   "source": [
    "df_train = convert_time(df_train)\n",
    "df_test = convert_time(df_test)"
   ],
   "outputs": [],
   "metadata": {}
  },
  {
   "cell_type": "markdown",
   "source": [
    "# Train Test\n",
    "**********"
   ],
   "metadata": {}
  },
  {
   "cell_type": "code",
   "execution_count": 13,
   "source": [
    "cols = df_train.columns\n",
    "cols = cols.drop(\"target\")\n",
    "\n",
    "X_train = df_train[cols]\n",
    "y_train = df_train[\"target\"]"
   ],
   "outputs": [],
   "metadata": {}
  },
  {
   "cell_type": "code",
   "execution_count": 14,
   "source": [
    "# Transform Dataset\n",
    "# ==============================================================================\n",
    "# strategy = {0:15000, 1:10000, 2:10000}\n",
    "strategy = {0:20000, 1:5000, 2:5000}\n",
    "oversample = SMOTE(sampling_strategy=strategy)\n",
    "\n",
    "# X_train_over, y_train_over = X_train, y_train\n",
    "X_train_over, y_train_over = oversample.fit_resample(X_train, y_train)\n",
    "\n",
    "y_train_over = to_categorical(y_train_over, num_classes=3)"
   ],
   "outputs": [],
   "metadata": {}
  },
  {
   "cell_type": "code",
   "execution_count": 15,
   "source": [
    "scaler = MinMaxScaler(feature_range=(0, 1))\n",
    "# scaler = StandardScaler()\n",
    "\n",
    "X_train_over = scaler.fit_transform(X_train_over)\n",
    "# X_train_over = X_train_over.copy()\n",
    "\n",
    "X_test = scaler.fit_transform(df_test)"
   ],
   "outputs": [],
   "metadata": {}
  },
  {
   "cell_type": "code",
   "execution_count": 16,
   "source": [
    "pd.DataFrame(y_train_over).value_counts()"
   ],
   "outputs": [
    {
     "output_type": "execute_result",
     "data": {
      "text/plain": [
       "0    1    2  \n",
       "1.0  0.0  0.0    20000\n",
       "0.0  0.0  1.0     5000\n",
       "     1.0  0.0     5000\n",
       "dtype: int64"
      ]
     },
     "metadata": {},
     "execution_count": 16
    }
   ],
   "metadata": {}
  },
  {
   "cell_type": "code",
   "execution_count": 17,
   "source": [
    "# [samples, timesteps, features].\n",
    "timesteps = 20\n",
    "samples = int(X_train_over.shape[0]/timesteps)\n",
    "features = len(cols)\n",
    "\n",
    "X_train_reshape = np.array(X_train_over).reshape(samples, timesteps, features)\n",
    "y_train_reshape = np.array(y_train_over).reshape(samples, timesteps, 3)\n",
    "X_train_reshape.shape"
   ],
   "outputs": [
    {
     "output_type": "execute_result",
     "data": {
      "text/plain": [
       "(1500, 20, 16)"
      ]
     },
     "metadata": {},
     "execution_count": 17
    }
   ],
   "metadata": {}
  },
  {
   "cell_type": "code",
   "execution_count": 18,
   "source": [
    "y_train_reshape"
   ],
   "outputs": [
    {
     "output_type": "execute_result",
     "data": {
      "text/plain": [
       "array([[[1., 0., 0.],\n",
       "        [1., 0., 0.],\n",
       "        [0., 1., 0.],\n",
       "        ...,\n",
       "        [1., 0., 0.],\n",
       "        [1., 0., 0.],\n",
       "        [1., 0., 0.]],\n",
       "\n",
       "       [[1., 0., 0.],\n",
       "        [1., 0., 0.],\n",
       "        [1., 0., 0.],\n",
       "        ...,\n",
       "        [0., 0., 1.],\n",
       "        [1., 0., 0.],\n",
       "        [1., 0., 0.]],\n",
       "\n",
       "       [[1., 0., 0.],\n",
       "        [1., 0., 0.],\n",
       "        [1., 0., 0.],\n",
       "        ...,\n",
       "        [1., 0., 0.],\n",
       "        [1., 0., 0.],\n",
       "        [0., 1., 0.]],\n",
       "\n",
       "       ...,\n",
       "\n",
       "       [[0., 0., 1.],\n",
       "        [0., 0., 1.],\n",
       "        [0., 0., 1.],\n",
       "        ...,\n",
       "        [0., 0., 1.],\n",
       "        [0., 0., 1.],\n",
       "        [0., 0., 1.]],\n",
       "\n",
       "       [[0., 0., 1.],\n",
       "        [0., 0., 1.],\n",
       "        [0., 0., 1.],\n",
       "        ...,\n",
       "        [0., 0., 1.],\n",
       "        [0., 0., 1.],\n",
       "        [0., 0., 1.]],\n",
       "\n",
       "       [[0., 0., 1.],\n",
       "        [0., 0., 1.],\n",
       "        [0., 0., 1.],\n",
       "        ...,\n",
       "        [0., 0., 1.],\n",
       "        [0., 0., 1.],\n",
       "        [0., 0., 1.]]], dtype=float32)"
      ]
     },
     "metadata": {},
     "execution_count": 18
    }
   ],
   "metadata": {}
  },
  {
   "cell_type": "markdown",
   "source": [
    "# Model\n",
    "************"
   ],
   "metadata": {}
  },
  {
   "cell_type": "code",
   "execution_count": 19,
   "source": [
    "model = Sequential()\n",
    "model.add(LSTM(500, dropout=0.25, input_shape=( timesteps, features ),return_sequences=True))\n",
    "\n",
    "model.add(Dense(3,activation='softmax'))\n",
    "\n",
    "model.compile(loss='categorical_crossentropy',\n",
    "              optimizer='adam', metrics=['accuracy'])\n",
    "\n",
    "model.summary()"
   ],
   "outputs": [
    {
     "output_type": "stream",
     "name": "stdout",
     "text": [
      "Model: \"sequential\"\n",
      "_________________________________________________________________\n",
      "Layer (type)                 Output Shape              Param #   \n",
      "=================================================================\n",
      "lstm (LSTM)                  (None, 20, 500)           1034000   \n",
      "_________________________________________________________________\n",
      "dense (Dense)                (None, 20, 3)             1503      \n",
      "=================================================================\n",
      "Total params: 1,035,503\n",
      "Trainable params: 1,035,503\n",
      "Non-trainable params: 0\n",
      "_________________________________________________________________\n"
     ]
    }
   ],
   "metadata": {}
  },
  {
   "cell_type": "code",
   "execution_count": 20,
   "source": [
    "checkpoint_filepath = 'model.h5'\n",
    "\n",
    "model_checkpoint_callback = keras.callbacks.ModelCheckpoint(\n",
    "    filepath=checkpoint_filepath,\n",
    "    monitor='val_accuracy',\n",
    "    mode='max',\n",
    "    save_best_only=True)"
   ],
   "outputs": [],
   "metadata": {}
  },
  {
   "cell_type": "code",
   "execution_count": 21,
   "source": [
    "X_train_orig = scaler.fit_transform(X_train[:-1])\n",
    "y_train_orig = to_categorical(y_train[:-1], num_classes=3)"
   ],
   "outputs": [],
   "metadata": {}
  },
  {
   "cell_type": "code",
   "execution_count": 22,
   "source": [
    "timesteps = 20\n",
    "samples = int(X_train_orig.shape[0]/timesteps)\n",
    "features = len(cols)\n",
    "\n",
    "X_train_orig_reshape = np.array(X_train_orig).reshape(samples, timesteps, features)\n",
    "y_train_orig_reshape = np.array(y_train_orig).reshape(samples, timesteps, 3)\n",
    "X_train_orig_reshape.shape"
   ],
   "outputs": [
    {
     "output_type": "execute_result",
     "data": {
      "text/plain": [
       "(635, 20, 16)"
      ]
     },
     "metadata": {},
     "execution_count": 22
    }
   ],
   "metadata": {}
  },
  {
   "cell_type": "code",
   "execution_count": 23,
   "source": [
    "history = model.fit(X_train_reshape, y_train_reshape, epochs=3000, batch_size=512, verbose=0, callbacks=[model_checkpoint_callback],\n",
    "          validation_data=(X_train_orig_reshape, y_train_orig_reshape))"
   ],
   "outputs": [],
   "metadata": {}
  },
  {
   "cell_type": "code",
   "execution_count": 25,
   "source": [
    "\n",
    "fig, ax = plt.subplots(2,1,figsize=(10,10))\n",
    "ax[0].set_title('Cross Entropy Loss', fontsize = 20)\n",
    "ax[0].plot(history.history['loss'], color='blue', label='Train')\n",
    "ax[0].plot(history.history['val_loss'], color='orange', label='Validation')\n",
    "ax[0].set_ylabel('Cross Entropy Loss', fontsize = 16)\n",
    "ax[0].legend(fontsize = 16)\n",
    "\n",
    "ax[1].set_title('Classification Accuracy', fontsize = 20)\n",
    "ax[1].plot(history.history['accuracy'], color='blue', label='Train')\n",
    "ax[1].plot(history.history['val_accuracy'], color='orange', label='Validation')\n",
    "ax[1].set_ylabel('Classification Accuracy', fontsize = 16)\n",
    "ax[1].set_xlabel('Epochs', fontsize = 16)\n",
    "ax[1].legend(fontsize = 16)\n",
    "\n",
    "plt.show()"
   ],
   "outputs": [
    {
     "output_type": "display_data",
     "data": {
      "text/plain": [
       "<Figure size 720x720 with 2 Axes>"
      ],
      "image/png": "[encoded data removed]"
     },
     "metadata": {}
    }
   ],
   "metadata": {}
  },
  {
   "cell_type": "markdown",
   "source": [
    "# Analysis\n",
    "************"
   ],
   "metadata": {}
  },
  {
   "cell_type": "code",
   "execution_count": 26,
   "source": [
    "best_model = load_model('model.h5')\n",
    "best_model.summary()"
   ],
   "outputs": [
    {
     "output_type": "stream",
     "name": "stdout",
     "text": [
      "Model: \"sequential\"\n",
      "_________________________________________________________________\n",
      "Layer (type)                 Output Shape              Param #   \n",
      "=================================================================\n",
      "lstm (LSTM)                  (None, 20, 500)           1034000   \n",
      "_________________________________________________________________\n",
      "dense (Dense)                (None, 20, 3)             1503      \n",
      "=================================================================\n",
      "Total params: 1,035,503\n",
      "Trainable params: 1,035,503\n",
      "Non-trainable params: 0\n",
      "_________________________________________________________________\n"
     ]
    }
   ],
   "metadata": {}
  },
  {
   "cell_type": "code",
   "execution_count": 27,
   "source": [
    "p = pd.DataFrame(best_model.predict(X_train_reshape).reshape(X_train_reshape.shape[0]*X_train_reshape.shape[1],3))\n",
    "p.idxmax(axis=1).value_counts()"
   ],
   "outputs": [
    {
     "output_type": "execute_result",
     "data": {
      "text/plain": [
       "0    21327\n",
       "2     4380\n",
       "1     4293\n",
       "dtype: int64"
      ]
     },
     "metadata": {},
     "execution_count": 27
    }
   ],
   "metadata": {}
  },
  {
   "cell_type": "code",
   "execution_count": 28,
   "source": [
    "p['predicted'] = p.idxmax(axis=1)\n",
    "p['real'] = y_train\n",
    "p"
   ],
   "outputs": [
    {
     "output_type": "execute_result",
     "data": {
      "text/plain": [
       "                  0             1         2  predicted  real\n",
       "0      6.384581e-01  1.959956e-01  0.165546          0   0.0\n",
       "1      6.343441e-01  2.261061e-01  0.139550          0   0.0\n",
       "2      7.919131e-01  1.321013e-01  0.075986          0   1.0\n",
       "3      9.205652e-01  3.512737e-02  0.044307          0   0.0\n",
       "4      9.336796e-01  1.014743e-02  0.056173          0   0.0\n",
       "...             ...           ...       ...        ...   ...\n",
       "29995  3.598279e-07  8.180258e-07  0.999999          2   NaN\n",
       "29996  4.206203e-07  9.976237e-07  0.999999          2   NaN\n",
       "29997  3.302833e-07  1.627350e-06  0.999998          2   NaN\n",
       "29998  9.115019e-07  1.520736e-06  0.999998          2   NaN\n",
       "29999  1.060792e-06  1.018064e-06  0.999998          2   NaN\n",
       "\n",
       "[30000 rows x 5 columns]"
      ],
      "text/html": [
       "<div>\n",
       "<style scoped>\n",
       "    .dataframe tbody tr th:only-of-type {\n",
       "        vertical-align: middle;\n",
       "    }\n",
       "\n",
       "    .dataframe tbody tr th {\n",
       "        vertical-align: top;\n",
       "    }\n",
       "\n",
       "    .dataframe thead th {\n",
       "        text-align: right;\n",
       "    }\n",
       "</style>\n",
       "<table border=\"1\" class=\"dataframe\">\n",
       "  <thead>\n",
       "    <tr style=\"text-align: right;\">\n",
       "      <th></th>\n",
       "      <th>0</th>\n",
       "      <th>1</th>\n",
       "      <th>2</th>\n",
       "      <th>predicted</th>\n",
       "      <th>real</th>\n",
       "    </tr>\n",
       "  </thead>\n",
       "  <tbody>\n",
       "    <tr>\n",
       "      <th>0</th>\n",
       "      <td>6.384581e-01</td>\n",
       "      <td>1.959956e-01</td>\n",
       "      <td>0.165546</td>\n",
       "      <td>0</td>\n",
       "      <td>0.0</td>\n",
       "    </tr>\n",
       "    <tr>\n",
       "      <th>1</th>\n",
       "      <td>6.343441e-01</td>\n",
       "      <td>2.261061e-01</td>\n",
       "      <td>0.139550</td>\n",
       "      <td>0</td>\n",
       "      <td>0.0</td>\n",
       "    </tr>\n",
       "    <tr>\n",
       "      <th>2</th>\n",
       "      <td>7.919131e-01</td>\n",
       "      <td>1.321013e-01</td>\n",
       "      <td>0.075986</td>\n",
       "      <td>0</td>\n",
       "      <td>1.0</td>\n",
       "    </tr>\n",
       "    <tr>\n",
       "      <th>3</th>\n",
       "      <td>9.205652e-01</td>\n",
       "      <td>3.512737e-02</td>\n",
       "      <td>0.044307</td>\n",
       "      <td>0</td>\n",
       "      <td>0.0</td>\n",
       "    </tr>\n",
       "    <tr>\n",
       "      <th>4</th>\n",
       "      <td>9.336796e-01</td>\n",
       "      <td>1.014743e-02</td>\n",
       "      <td>0.056173</td>\n",
       "      <td>0</td>\n",
       "      <td>0.0</td>\n",
       "    </tr>\n",
       "    <tr>\n",
       "      <th>...</th>\n",
       "      <td>...</td>\n",
       "      <td>...</td>\n",
       "      <td>...</td>\n",
       "      <td>...</td>\n",
       "      <td>...</td>\n",
       "    </tr>\n",
       "    <tr>\n",
       "      <th>29995</th>\n",
       "      <td>3.598279e-07</td>\n",
       "      <td>8.180258e-07</td>\n",
       "      <td>0.999999</td>\n",
       "      <td>2</td>\n",
       "      <td>NaN</td>\n",
       "    </tr>\n",
       "    <tr>\n",
       "      <th>29996</th>\n",
       "      <td>4.206203e-07</td>\n",
       "      <td>9.976237e-07</td>\n",
       "      <td>0.999999</td>\n",
       "      <td>2</td>\n",
       "      <td>NaN</td>\n",
       "    </tr>\n",
       "    <tr>\n",
       "      <th>29997</th>\n",
       "      <td>3.302833e-07</td>\n",
       "      <td>1.627350e-06</td>\n",
       "      <td>0.999998</td>\n",
       "      <td>2</td>\n",
       "      <td>NaN</td>\n",
       "    </tr>\n",
       "    <tr>\n",
       "      <th>29998</th>\n",
       "      <td>9.115019e-07</td>\n",
       "      <td>1.520736e-06</td>\n",
       "      <td>0.999998</td>\n",
       "      <td>2</td>\n",
       "      <td>NaN</td>\n",
       "    </tr>\n",
       "    <tr>\n",
       "      <th>29999</th>\n",
       "      <td>1.060792e-06</td>\n",
       "      <td>1.018064e-06</td>\n",
       "      <td>0.999998</td>\n",
       "      <td>2</td>\n",
       "      <td>NaN</td>\n",
       "    </tr>\n",
       "  </tbody>\n",
       "</table>\n",
       "<p>30000 rows × 5 columns</p>\n",
       "</div>"
      ]
     },
     "metadata": {},
     "execution_count": 28
    }
   ],
   "metadata": {}
  },
  {
   "cell_type": "code",
   "execution_count": 29,
   "source": [
    "accuracy = (p['predicted'] == p['real']).sum()\n",
    "print('Accuracy: ',accuracy/p.shape[0])"
   ],
   "outputs": [
    {
     "output_type": "stream",
     "name": "stdout",
     "text": [
      "Accuracy:  0.40996666666666665\n"
     ]
    }
   ],
   "metadata": {}
  },
  {
   "cell_type": "markdown",
   "source": [
    "# Prediction\n",
    "***********"
   ],
   "metadata": {}
  },
  {
   "cell_type": "code",
   "execution_count": 30,
   "source": [
    "X_test.shape"
   ],
   "outputs": [
    {
     "output_type": "execute_result",
     "data": {
      "text/plain": [
       "(5443, 16)"
      ]
     },
     "metadata": {},
     "execution_count": 30
    }
   ],
   "metadata": {}
  },
  {
   "cell_type": "code",
   "execution_count": 31,
   "source": [
    "X_test_orig = X_test[:-3]\n",
    "\n",
    "timesteps = 20\n",
    "samples = int(X_test_orig.shape[0]/timesteps)\n",
    "features = len(cols)\n",
    "\n",
    "X_test_orig_reshape = np.array(X_test_orig).reshape(samples, timesteps, features)\n",
    "\n",
    "res = pd.DataFrame(best_model.predict(X_test_orig_reshape).reshape(X_test_orig_reshape.shape[0]*X_test_orig_reshape.shape[1],3))\n",
    "res.idxmax(axis=1).value_counts()"
   ],
   "outputs": [
    {
     "output_type": "execute_result",
     "data": {
      "text/plain": [
       "0    5084\n",
       "2     216\n",
       "1     140\n",
       "dtype: int64"
      ]
     },
     "metadata": {},
     "execution_count": 31
    }
   ],
   "metadata": {}
  },
  {
   "cell_type": "code",
   "execution_count": 32,
   "source": [
    "result = list(res.idxmax(axis=1))\n",
    "result.append(0)\n",
    "result.append(0)\n",
    "result.append(0)"
   ],
   "outputs": [],
   "metadata": {}
  },
  {
   "cell_type": "code",
   "execution_count": 33,
   "source": [
    "pd.DataFrame(result).shape"
   ],
   "outputs": [
    {
     "output_type": "execute_result",
     "data": {
      "text/plain": [
       "(5443, 1)"
      ]
     },
     "metadata": {},
     "execution_count": 33
    }
   ],
   "metadata": {}
  },
  {
   "cell_type": "code",
   "execution_count": 35,
   "source": [
    "pd.DataFrame(result).to_csv('result.csv')"
   ],
   "outputs": [],
   "metadata": {}
  },
  {
   "cell_type": "code",
   "execution_count": 36,
   "source": [
    "res"
   ],
   "outputs": [
    {
     "output_type": "execute_result",
     "data": {
      "text/plain": [
       "             0             1         2\n",
       "0     0.488282  2.746006e-01  0.237118\n",
       "1     0.515873  3.082398e-01  0.175887\n",
       "2     0.512046  2.955688e-01  0.192385\n",
       "3     0.670431  2.065194e-01  0.123049\n",
       "4     0.111654  2.737083e-01  0.614638\n",
       "...        ...           ...       ...\n",
       "5435  0.997413  2.466352e-03  0.000121\n",
       "5436  0.910895  8.180022e-02  0.007305\n",
       "5437  0.999969  3.260523e-07  0.000030\n",
       "5438  0.684622  1.017025e-05  0.315368\n",
       "5439  0.999418  5.274069e-06  0.000577\n",
       "\n",
       "[5440 rows x 3 columns]"
      ],
      "text/html": [
       "<div>\n",
       "<style scoped>\n",
       "    .dataframe tbody tr th:only-of-type {\n",
       "        vertical-align: middle;\n",
       "    }\n",
       "\n",
       "    .dataframe tbody tr th {\n",
       "        vertical-align: top;\n",
       "    }\n",
       "\n",
       "    .dataframe thead th {\n",
       "        text-align: right;\n",
       "    }\n",
       "</style>\n",
       "<table border=\"1\" class=\"dataframe\">\n",
       "  <thead>\n",
       "    <tr style=\"text-align: right;\">\n",
       "      <th></th>\n",
       "      <th>0</th>\n",
       "      <th>1</th>\n",
       "      <th>2</th>\n",
       "    </tr>\n",
       "  </thead>\n",
       "  <tbody>\n",
       "    <tr>\n",
       "      <th>0</th>\n",
       "      <td>0.488282</td>\n",
       "      <td>2.746006e-01</td>\n",
       "      <td>0.237118</td>\n",
       "    </tr>\n",
       "    <tr>\n",
       "      <th>1</th>\n",
       "      <td>0.515873</td>\n",
       "      <td>3.082398e-01</td>\n",
       "      <td>0.175887</td>\n",
       "    </tr>\n",
       "    <tr>\n",
       "      <th>2</th>\n",
       "      <td>0.512046</td>\n",
       "      <td>2.955688e-01</td>\n",
       "      <td>0.192385</td>\n",
       "    </tr>\n",
       "    <tr>\n",
       "      <th>3</th>\n",
       "      <td>0.670431</td>\n",
       "      <td>2.065194e-01</td>\n",
       "      <td>0.123049</td>\n",
       "    </tr>\n",
       "    <tr>\n",
       "      <th>4</th>\n",
       "      <td>0.111654</td>\n",
       "      <td>2.737083e-01</td>\n",
       "      <td>0.614638</td>\n",
       "    </tr>\n",
       "    <tr>\n",
       "      <th>...</th>\n",
       "      <td>...</td>\n",
       "      <td>...</td>\n",
       "      <td>...</td>\n",
       "    </tr>\n",
       "    <tr>\n",
       "      <th>5435</th>\n",
       "      <td>0.997413</td>\n",
       "      <td>2.466352e-03</td>\n",
       "      <td>0.000121</td>\n",
       "    </tr>\n",
       "    <tr>\n",
       "      <th>5436</th>\n",
       "      <td>0.910895</td>\n",
       "      <td>8.180022e-02</td>\n",
       "      <td>0.007305</td>\n",
       "    </tr>\n",
       "    <tr>\n",
       "      <th>5437</th>\n",
       "      <td>0.999969</td>\n",
       "      <td>3.260523e-07</td>\n",
       "      <td>0.000030</td>\n",
       "    </tr>\n",
       "    <tr>\n",
       "      <th>5438</th>\n",
       "      <td>0.684622</td>\n",
       "      <td>1.017025e-05</td>\n",
       "      <td>0.315368</td>\n",
       "    </tr>\n",
       "    <tr>\n",
       "      <th>5439</th>\n",
       "      <td>0.999418</td>\n",
       "      <td>5.274069e-06</td>\n",
       "      <td>0.000577</td>\n",
       "    </tr>\n",
       "  </tbody>\n",
       "</table>\n",
       "<p>5440 rows × 3 columns</p>\n",
       "</div>"
      ]
     },
     "metadata": {},
     "execution_count": 36
    }
   ],
   "metadata": {}
  },
  {
   "cell_type": "code",
   "execution_count": null,
   "source": [],
   "outputs": [],
   "metadata": {}
  }
 ],
 "metadata": {
  "kernelspec": {
   "display_name": "Python 3",
   "language": "python",
   "name": "python3"
  },
  "language_info": {
   "codemirror_mode": {
    "name": "ipython",
    "version": 3
   },
   "file_extension": ".py",
   "mimetype": "text/x-python",
   "name": "python",
   "nbconvert_exporter": "python",
   "pygments_lexer": "ipython3",
   "version": "3.8.8"
  }
 },
 "nbformat": 4,
 "nbformat_minor": 2
}